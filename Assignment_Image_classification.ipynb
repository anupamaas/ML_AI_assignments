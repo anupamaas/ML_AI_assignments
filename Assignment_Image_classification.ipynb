{
  "nbformat": 4,
  "nbformat_minor": 0,
  "metadata": {
    "colab": {
      "provenance": [],
      "gpuType": "T4"
    },
    "kernelspec": {
      "name": "python3",
      "display_name": "Python 3"
    },
    "language_info": {
      "name": "python"
    },
    "accelerator": "GPU"
  },
  "cells": [
    {
      "cell_type": "code",
      "execution_count": 1,
      "metadata": {
        "id": "n8ImZMvCX3MU"
      },
      "outputs": [],
      "source": [
        "import numpy as np\n",
        "import pandas as pd\n",
        "import matplotlib.pyplot as plt\n",
        "import tensorflow as tf\n",
        "from tensorflow import keras\n",
        "from keras.models import Sequential\n",
        "from keras.layers import Conv2D,MaxPooling2D,Flatten,Dense,Dropout\n",
        "from keras.utils import to_categorical\n",
        "from keras.preprocessing import image\n",
        "from keras.preprocessing.image import ImageDataGenerator\n",
        "import os"
      ]
    },
    {
      "cell_type": "code",
      "source": [
        "import os\n",
        "import numpy as np\n",
        "from PIL import Image\n",
        "import keras\n",
        "import cv2"
      ],
      "metadata": {
        "id": "MKEehqtzYhxd"
      },
      "execution_count": 2,
      "outputs": []
    },
    {
      "cell_type": "code",
      "source": [
        "train_path='/content/drive/MyDrive/Vegetable Images/train'\n",
        "test_path = \"/content/drive/MyDrive/Vegetable Images/test\"\n",
        "val_path = '/content/drive/MyDrive/Vegetable Images/validation'"
      ],
      "metadata": {
        "id": "dWMpLkeWZUeO"
      },
      "execution_count": 3,
      "outputs": []
    },
    {
      "cell_type": "code",
      "source": [
        "# Creating Image Data Generator for train, validation and test set\n",
        "\n",
        "# 1. Train Set\n",
        "train_gen = ImageDataGenerator(rescale = 1.0/255.0) # Normalise the data\n",
        "train_image_generator = train_gen.flow_from_directory(\n",
        "                                            train_path,\n",
        "                                            target_size=(224, 224),\n",
        "                                            batch_size=32,\n",
        "                                            class_mode='categorical')\n",
        "# 2. Validation Set\n",
        "val_gen = ImageDataGenerator(rescale = 1.0/255.0) # Normalise the data\n",
        "val_image_generator = train_gen.flow_from_directory(\n",
        "                                            val_path,\n",
        "                                            target_size=(224, 224),\n",
        "                                            batch_size=32,\n",
        "                                            class_mode='categorical')\n",
        "# 3. Test Set\n",
        "test_gen = ImageDataGenerator(rescale = 1.0/255.0) # Normalise the data\n",
        "test_image_generator = train_gen.flow_from_directory(\n",
        "                                            test_path,\n",
        "                                            target_size=(224, 224),\n",
        "                                            batch_size=32,\n",
        "                                            class_mode='categorical')\n"
      ],
      "metadata": {
        "colab": {
          "base_uri": "https://localhost:8080/"
        },
        "id": "JBjTX3o9Zx14",
        "outputId": "38a13e1c-cb71-4a51-d442-cfbf47a92e75"
      },
      "execution_count": 4,
      "outputs": [
        {
          "output_type": "stream",
          "name": "stdout",
          "text": [
            "Found 15000 images belonging to 15 classes.\n",
            "Found 3000 images belonging to 15 classes.\n",
            "Found 2924 images belonging to 15 classes.\n"
          ]
        }
      ]
    },
    {
      "cell_type": "code",
      "source": [
        "# Build a custom sequential CNN model\n",
        "\n",
        "model = Sequential() # model object\n",
        "\n",
        "# Add Layers\n",
        "model.add(Conv2D(32, kernel_size=3, strides=1, padding='same', activation='relu', input_shape=[224, 224, 3]))\n",
        "model.add(MaxPooling2D(2, ))\n",
        "model.add(Conv2D(64, kernel_size=3, strides=1, padding='same', activation='relu'))\n",
        "model.add(MaxPooling2D(2))\n",
        "\n",
        "# Flatten the feature map\n",
        "model.add(Flatten())\n",
        "\n",
        "# Add the fully connected layers\n",
        "model.add(Dense(128, activation='relu'))\n",
        "model.add(Dropout(0.25))\n",
        "model.add(Dense(128, activation='relu'))\n",
        "model.add(Dense(15, activation='softmax'))\n",
        "\n",
        "# print the model summary\n",
        "model.summary()"
      ],
      "metadata": {
        "colab": {
          "base_uri": "https://localhost:8080/"
        },
        "id": "fie4Bz_BaG7v",
        "outputId": "5b706747-bf9f-4cf5-a2a2-5dfbbaf23380"
      },
      "execution_count": 5,
      "outputs": [
        {
          "output_type": "stream",
          "name": "stdout",
          "text": [
            "Model: \"sequential\"\n",
            "_________________________________________________________________\n",
            " Layer (type)                Output Shape              Param #   \n",
            "=================================================================\n",
            " conv2d (Conv2D)             (None, 224, 224, 32)      896       \n",
            "                                                                 \n",
            " max_pooling2d (MaxPooling2  (None, 112, 112, 32)      0         \n",
            " D)                                                              \n",
            "                                                                 \n",
            " conv2d_1 (Conv2D)           (None, 112, 112, 64)      18496     \n",
            "                                                                 \n",
            " max_pooling2d_1 (MaxPoolin  (None, 56, 56, 64)        0         \n",
            " g2D)                                                            \n",
            "                                                                 \n",
            " flatten (Flatten)           (None, 200704)            0         \n",
            "                                                                 \n",
            " dense (Dense)               (None, 128)               25690240  \n",
            "                                                                 \n",
            " dropout (Dropout)           (None, 128)               0         \n",
            "                                                                 \n",
            " dense_1 (Dense)             (None, 128)               16512     \n",
            "                                                                 \n",
            " dense_2 (Dense)             (None, 15)                1935      \n",
            "                                                                 \n",
            "=================================================================\n",
            "Total params: 25728079 (98.14 MB)\n",
            "Trainable params: 25728079 (98.14 MB)\n",
            "Non-trainable params: 0 (0.00 Byte)\n",
            "_________________________________________________________________\n"
          ]
        }
      ]
    },
    {
      "cell_type": "code",
      "source": [
        "model.compile(optimizer='Adam', loss='categorical_crossentropy', metrics=['accuracy'])\n",
        "model.fit(train_image_generator, epochs=3,validation_data=val_image_generator)"
      ],
      "metadata": {
        "colab": {
          "base_uri": "https://localhost:8080/"
        },
        "id": "zzUGLn_yaOqR",
        "outputId": "257553ee-7797-4650-da61-fe2fb47d8d63"
      },
      "execution_count": 6,
      "outputs": [
        {
          "output_type": "stream",
          "name": "stdout",
          "text": [
            "Epoch 1/3\n",
            "469/469 [==============================] - 348s 720ms/step - loss: 1.4331 - accuracy: 0.5254 - val_loss: 0.6165 - val_accuracy: 0.8100\n",
            "Epoch 2/3\n",
            "469/469 [==============================] - 80s 171ms/step - loss: 0.6017 - accuracy: 0.8039 - val_loss: 0.3899 - val_accuracy: 0.8730\n",
            "Epoch 3/3\n",
            "469/469 [==============================] - 80s 171ms/step - loss: 0.3479 - accuracy: 0.8858 - val_loss: 0.2969 - val_accuracy: 0.9080\n"
          ]
        },
        {
          "output_type": "execute_result",
          "data": {
            "text/plain": [
              "<keras.src.callbacks.History at 0x7885481e6680>"
            ]
          },
          "metadata": {},
          "execution_count": 6
        }
      ]
    },
    {
      "cell_type": "code",
      "source": [
        "predictions = model.predict(test_image_generator)"
      ],
      "metadata": {
        "colab": {
          "base_uri": "https://localhost:8080/"
        },
        "id": "MpHMwx-daThZ",
        "outputId": "31036aa2-7cb9-444d-f632-d16f0f52e4f9"
      },
      "execution_count": 7,
      "outputs": [
        {
          "output_type": "stream",
          "name": "stdout",
          "text": [
            "92/92 [==============================] - 419s 5s/step\n"
          ]
        }
      ]
    },
    {
      "cell_type": "code",
      "source": [
        "model.evaluate(test_image_generator)"
      ],
      "metadata": {
        "colab": {
          "base_uri": "https://localhost:8080/"
        },
        "id": "HUhGvIgkaXkj",
        "outputId": "9dcc2660-f768-4bd1-b821-4b544545ee46"
      },
      "execution_count": 8,
      "outputs": [
        {
          "output_type": "stream",
          "name": "stdout",
          "text": [
            "92/92 [==============================] - 13s 142ms/step - loss: 0.2889 - accuracy: 0.9090\n"
          ]
        },
        {
          "output_type": "execute_result",
          "data": {
            "text/plain": [
              "[0.28890472650527954, 0.9090287089347839]"
            ]
          },
          "metadata": {},
          "execution_count": 8
        }
      ]
    }
  ]
}
{
  "nbformat": 4,
  "nbformat_minor": 0,
  "metadata": {
    "colab": {
      "provenance": []
    },
    "kernelspec": {
      "name": "python3",
      "display_name": "Python 3"
    },
    "language_info": {
      "name": "python"
    }
  },
  "cells": [
    {
      "cell_type": "markdown",
      "source": [
        "Importing necessary libraries"
      ],
      "metadata": {
        "id": "jlZ87_HIkdF-"
      }
    },
    {
      "cell_type": "code",
      "execution_count": 1,
      "metadata": {
        "id": "hOFF5_u-B0GY"
      },
      "outputs": [],
      "source": [
        "import pandas as pd\n",
        "import numpy as np\n",
        "import matplotlib.pyplot as plt\n",
        "import seaborn as sns\n",
        "import tensorflow as tf"
      ]
    },
    {
      "cell_type": "markdown",
      "source": [
        "To Load the dataset in Python environment"
      ],
      "metadata": {
        "id": "Y3sYVgp30CrI"
      }
    },
    {
      "cell_type": "code",
      "source": [
        "data=pd.read_csv('/content/mobile_price_classification (1).csv')"
      ],
      "metadata": {
        "id": "_3Ln_GDuMpv1"
      },
      "execution_count": 2,
      "outputs": []
    },
    {
      "cell_type": "code",
      "source": [
        "data.head(20)"
      ],
      "metadata": {
        "colab": {
          "base_uri": "https://localhost:8080/",
          "height": 725
        },
        "id": "ir9AIg7HOMzF",
        "outputId": "026486cc-b098-4e20-a722-93730f2f0d3f"
      },
      "execution_count": 3,
      "outputs": [
        {
          "output_type": "execute_result",
          "data": {
            "text/plain": [
              "    battery_power  bluetooth  clock_speed  dual_sim  front_cam  4G  \\\n",
              "0             842          0          2.2         0          1   0   \n",
              "1            1021          1          0.5         1          0   1   \n",
              "2             563          1          0.5         1          2   1   \n",
              "3             615          1          2.5         0          0   0   \n",
              "4            1821          1          1.2         0         13   1   \n",
              "5            1859          0          0.5         1          3   0   \n",
              "6            1821          0          1.7         0          4   1   \n",
              "7            1954          0          0.5         1          0   0   \n",
              "8            1445          1          0.5         0          0   0   \n",
              "9             509          1          0.6         1          2   1   \n",
              "10            769          1          2.9         1          0   0   \n",
              "11           1520          1          2.2         0          5   1   \n",
              "12           1815          0          2.8         0          2   0   \n",
              "13            803          1          2.1         0          7   0   \n",
              "14           1866          0          0.5         0         13   1   \n",
              "15            775          0          1.0         0          3   0   \n",
              "16            838          0          0.5         0          1   1   \n",
              "17            595          0          0.9         1          7   1   \n",
              "18           1131          1          0.5         1         11   0   \n",
              "19            682          1          0.5         0          4   0   \n",
              "\n",
              "    int_memory  m_dep  mobile_wt  n_cores  ...  px_height  px_width   ram  \\\n",
              "0            7    0.6        188        2  ...         20       756  2549   \n",
              "1           53    0.7        136        3  ...        905      1988  2631   \n",
              "2           41    0.9        145        5  ...       1263      1716  2603   \n",
              "3           10    0.8        131        6  ...       1216      1786  2769   \n",
              "4           44    0.6        141        2  ...       1208      1212  1411   \n",
              "5           22    0.7        164        1  ...       1004      1654  1067   \n",
              "6           10    0.8        139        8  ...        381      1018  3220   \n",
              "7           24    0.8        187        4  ...        512      1149   700   \n",
              "8           53    0.7        174        7  ...        386       836  1099   \n",
              "9            9    0.1         93        5  ...       1137      1224   513   \n",
              "10           9    0.1        182        5  ...        248       874  3946   \n",
              "11          33    0.5        177        8  ...        151      1005  3826   \n",
              "12          33    0.6        159        4  ...        607       748  1482   \n",
              "13          17    1.0        198        4  ...        344      1440  2680   \n",
              "14          52    0.7        185        1  ...        356       563   373   \n",
              "15          46    0.7        159        2  ...        862      1864   568   \n",
              "16          13    0.1        196        8  ...        984      1850  3554   \n",
              "17          23    0.1        121        3  ...        441       810  3752   \n",
              "18          49    0.6        101        5  ...        658       878  1835   \n",
              "19          19    1.0        121        4  ...        902      1064  2337   \n",
              "\n",
              "    sc_h  sc_w  talk_time  three_g  touch_screen  wifi  price_range  \n",
              "0      9     7         19        0             0     1            1  \n",
              "1     17     3          7        1             1     0            2  \n",
              "2     11     2          9        1             1     0            2  \n",
              "3     16     8         11        1             0     0            2  \n",
              "4      8     2         15        1             1     0            1  \n",
              "5     17     1         10        1             0     0            1  \n",
              "6     13     8         18        1             0     1            3  \n",
              "7     16     3          5        1             1     1            0  \n",
              "8     17     1         20        1             0     0            0  \n",
              "9     19    10         12        1             0     0            0  \n",
              "10     5     2          7        0             0     0            3  \n",
              "11    14     9         13        1             1     1            3  \n",
              "12    18     0          2        1             0     0            1  \n",
              "13     7     1          4        1             0     1            2  \n",
              "14    14     9          3        1             0     1            0  \n",
              "15    17    15         11        1             1     1            0  \n",
              "16    10     9         19        1             0     1            3  \n",
              "17    10     2         18        1             1     0            3  \n",
              "18    19    13         16        1             1     0            1  \n",
              "19    11     1         18        0             1     1            1  \n",
              "\n",
              "[20 rows x 21 columns]"
            ],
            "text/html": [
              "\n",
              "  <div id=\"df-ec65dcce-932b-43c0-b58d-66140b8044f9\" class=\"colab-df-container\">\n",
              "    <div>\n",
              "<style scoped>\n",
              "    .dataframe tbody tr th:only-of-type {\n",
              "        vertical-align: middle;\n",
              "    }\n",
              "\n",
              "    .dataframe tbody tr th {\n",
              "        vertical-align: top;\n",
              "    }\n",
              "\n",
              "    .dataframe thead th {\n",
              "        text-align: right;\n",
              "    }\n",
              "</style>\n",
              "<table border=\"1\" class=\"dataframe\">\n",
              "  <thead>\n",
              "    <tr style=\"text-align: right;\">\n",
              "      <th></th>\n",
              "      <th>battery_power</th>\n",
              "      <th>bluetooth</th>\n",
              "      <th>clock_speed</th>\n",
              "      <th>dual_sim</th>\n",
              "      <th>front_cam</th>\n",
              "      <th>4G</th>\n",
              "      <th>int_memory</th>\n",
              "      <th>m_dep</th>\n",
              "      <th>mobile_wt</th>\n",
              "      <th>n_cores</th>\n",
              "      <th>...</th>\n",
              "      <th>px_height</th>\n",
              "      <th>px_width</th>\n",
              "      <th>ram</th>\n",
              "      <th>sc_h</th>\n",
              "      <th>sc_w</th>\n",
              "      <th>talk_time</th>\n",
              "      <th>three_g</th>\n",
              "      <th>touch_screen</th>\n",
              "      <th>wifi</th>\n",
              "      <th>price_range</th>\n",
              "    </tr>\n",
              "  </thead>\n",
              "  <tbody>\n",
              "    <tr>\n",
              "      <th>0</th>\n",
              "      <td>842</td>\n",
              "      <td>0</td>\n",
              "      <td>2.2</td>\n",
              "      <td>0</td>\n",
              "      <td>1</td>\n",
              "      <td>0</td>\n",
              "      <td>7</td>\n",
              "      <td>0.6</td>\n",
              "      <td>188</td>\n",
              "      <td>2</td>\n",
              "      <td>...</td>\n",
              "      <td>20</td>\n",
              "      <td>756</td>\n",
              "      <td>2549</td>\n",
              "      <td>9</td>\n",
              "      <td>7</td>\n",
              "      <td>19</td>\n",
              "      <td>0</td>\n",
              "      <td>0</td>\n",
              "      <td>1</td>\n",
              "      <td>1</td>\n",
              "    </tr>\n",
              "    <tr>\n",
              "      <th>1</th>\n",
              "      <td>1021</td>\n",
              "      <td>1</td>\n",
              "      <td>0.5</td>\n",
              "      <td>1</td>\n",
              "      <td>0</td>\n",
              "      <td>1</td>\n",
              "      <td>53</td>\n",
              "      <td>0.7</td>\n",
              "      <td>136</td>\n",
              "      <td>3</td>\n",
              "      <td>...</td>\n",
              "      <td>905</td>\n",
              "      <td>1988</td>\n",
              "      <td>2631</td>\n",
              "      <td>17</td>\n",
              "      <td>3</td>\n",
              "      <td>7</td>\n",
              "      <td>1</td>\n",
              "      <td>1</td>\n",
              "      <td>0</td>\n",
              "      <td>2</td>\n",
              "    </tr>\n",
              "    <tr>\n",
              "      <th>2</th>\n",
              "      <td>563</td>\n",
              "      <td>1</td>\n",
              "      <td>0.5</td>\n",
              "      <td>1</td>\n",
              "      <td>2</td>\n",
              "      <td>1</td>\n",
              "      <td>41</td>\n",
              "      <td>0.9</td>\n",
              "      <td>145</td>\n",
              "      <td>5</td>\n",
              "      <td>...</td>\n",
              "      <td>1263</td>\n",
              "      <td>1716</td>\n",
              "      <td>2603</td>\n",
              "      <td>11</td>\n",
              "      <td>2</td>\n",
              "      <td>9</td>\n",
              "      <td>1</td>\n",
              "      <td>1</td>\n",
              "      <td>0</td>\n",
              "      <td>2</td>\n",
              "    </tr>\n",
              "    <tr>\n",
              "      <th>3</th>\n",
              "      <td>615</td>\n",
              "      <td>1</td>\n",
              "      <td>2.5</td>\n",
              "      <td>0</td>\n",
              "      <td>0</td>\n",
              "      <td>0</td>\n",
              "      <td>10</td>\n",
              "      <td>0.8</td>\n",
              "      <td>131</td>\n",
              "      <td>6</td>\n",
              "      <td>...</td>\n",
              "      <td>1216</td>\n",
              "      <td>1786</td>\n",
              "      <td>2769</td>\n",
              "      <td>16</td>\n",
              "      <td>8</td>\n",
              "      <td>11</td>\n",
              "      <td>1</td>\n",
              "      <td>0</td>\n",
              "      <td>0</td>\n",
              "      <td>2</td>\n",
              "    </tr>\n",
              "    <tr>\n",
              "      <th>4</th>\n",
              "      <td>1821</td>\n",
              "      <td>1</td>\n",
              "      <td>1.2</td>\n",
              "      <td>0</td>\n",
              "      <td>13</td>\n",
              "      <td>1</td>\n",
              "      <td>44</td>\n",
              "      <td>0.6</td>\n",
              "      <td>141</td>\n",
              "      <td>2</td>\n",
              "      <td>...</td>\n",
              "      <td>1208</td>\n",
              "      <td>1212</td>\n",
              "      <td>1411</td>\n",
              "      <td>8</td>\n",
              "      <td>2</td>\n",
              "      <td>15</td>\n",
              "      <td>1</td>\n",
              "      <td>1</td>\n",
              "      <td>0</td>\n",
              "      <td>1</td>\n",
              "    </tr>\n",
              "    <tr>\n",
              "      <th>5</th>\n",
              "      <td>1859</td>\n",
              "      <td>0</td>\n",
              "      <td>0.5</td>\n",
              "      <td>1</td>\n",
              "      <td>3</td>\n",
              "      <td>0</td>\n",
              "      <td>22</td>\n",
              "      <td>0.7</td>\n",
              "      <td>164</td>\n",
              "      <td>1</td>\n",
              "      <td>...</td>\n",
              "      <td>1004</td>\n",
              "      <td>1654</td>\n",
              "      <td>1067</td>\n",
              "      <td>17</td>\n",
              "      <td>1</td>\n",
              "      <td>10</td>\n",
              "      <td>1</td>\n",
              "      <td>0</td>\n",
              "      <td>0</td>\n",
              "      <td>1</td>\n",
              "    </tr>\n",
              "    <tr>\n",
              "      <th>6</th>\n",
              "      <td>1821</td>\n",
              "      <td>0</td>\n",
              "      <td>1.7</td>\n",
              "      <td>0</td>\n",
              "      <td>4</td>\n",
              "      <td>1</td>\n",
              "      <td>10</td>\n",
              "      <td>0.8</td>\n",
              "      <td>139</td>\n",
              "      <td>8</td>\n",
              "      <td>...</td>\n",
              "      <td>381</td>\n",
              "      <td>1018</td>\n",
              "      <td>3220</td>\n",
              "      <td>13</td>\n",
              "      <td>8</td>\n",
              "      <td>18</td>\n",
              "      <td>1</td>\n",
              "      <td>0</td>\n",
              "      <td>1</td>\n",
              "      <td>3</td>\n",
              "    </tr>\n",
              "    <tr>\n",
              "      <th>7</th>\n",
              "      <td>1954</td>\n",
              "      <td>0</td>\n",
              "      <td>0.5</td>\n",
              "      <td>1</td>\n",
              "      <td>0</td>\n",
              "      <td>0</td>\n",
              "      <td>24</td>\n",
              "      <td>0.8</td>\n",
              "      <td>187</td>\n",
              "      <td>4</td>\n",
              "      <td>...</td>\n",
              "      <td>512</td>\n",
              "      <td>1149</td>\n",
              "      <td>700</td>\n",
              "      <td>16</td>\n",
              "      <td>3</td>\n",
              "      <td>5</td>\n",
              "      <td>1</td>\n",
              "      <td>1</td>\n",
              "      <td>1</td>\n",
              "      <td>0</td>\n",
              "    </tr>\n",
              "    <tr>\n",
              "      <th>8</th>\n",
              "      <td>1445</td>\n",
              "      <td>1</td>\n",
              "      <td>0.5</td>\n",
              "      <td>0</td>\n",
              "      <td>0</td>\n",
              "      <td>0</td>\n",
              "      <td>53</td>\n",
              "      <td>0.7</td>\n",
              "      <td>174</td>\n",
              "      <td>7</td>\n",
              "      <td>...</td>\n",
              "      <td>386</td>\n",
              "      <td>836</td>\n",
              "      <td>1099</td>\n",
              "      <td>17</td>\n",
              "      <td>1</td>\n",
              "      <td>20</td>\n",
              "      <td>1</td>\n",
              "      <td>0</td>\n",
              "      <td>0</td>\n",
              "      <td>0</td>\n",
              "    </tr>\n",
              "    <tr>\n",
              "      <th>9</th>\n",
              "      <td>509</td>\n",
              "      <td>1</td>\n",
              "      <td>0.6</td>\n",
              "      <td>1</td>\n",
              "      <td>2</td>\n",
              "      <td>1</td>\n",
              "      <td>9</td>\n",
              "      <td>0.1</td>\n",
              "      <td>93</td>\n",
              "      <td>5</td>\n",
              "      <td>...</td>\n",
              "      <td>1137</td>\n",
              "      <td>1224</td>\n",
              "      <td>513</td>\n",
              "      <td>19</td>\n",
              "      <td>10</td>\n",
              "      <td>12</td>\n",
              "      <td>1</td>\n",
              "      <td>0</td>\n",
              "      <td>0</td>\n",
              "      <td>0</td>\n",
              "    </tr>\n",
              "    <tr>\n",
              "      <th>10</th>\n",
              "      <td>769</td>\n",
              "      <td>1</td>\n",
              "      <td>2.9</td>\n",
              "      <td>1</td>\n",
              "      <td>0</td>\n",
              "      <td>0</td>\n",
              "      <td>9</td>\n",
              "      <td>0.1</td>\n",
              "      <td>182</td>\n",
              "      <td>5</td>\n",
              "      <td>...</td>\n",
              "      <td>248</td>\n",
              "      <td>874</td>\n",
              "      <td>3946</td>\n",
              "      <td>5</td>\n",
              "      <td>2</td>\n",
              "      <td>7</td>\n",
              "      <td>0</td>\n",
              "      <td>0</td>\n",
              "      <td>0</td>\n",
              "      <td>3</td>\n",
              "    </tr>\n",
              "    <tr>\n",
              "      <th>11</th>\n",
              "      <td>1520</td>\n",
              "      <td>1</td>\n",
              "      <td>2.2</td>\n",
              "      <td>0</td>\n",
              "      <td>5</td>\n",
              "      <td>1</td>\n",
              "      <td>33</td>\n",
              "      <td>0.5</td>\n",
              "      <td>177</td>\n",
              "      <td>8</td>\n",
              "      <td>...</td>\n",
              "      <td>151</td>\n",
              "      <td>1005</td>\n",
              "      <td>3826</td>\n",
              "      <td>14</td>\n",
              "      <td>9</td>\n",
              "      <td>13</td>\n",
              "      <td>1</td>\n",
              "      <td>1</td>\n",
              "      <td>1</td>\n",
              "      <td>3</td>\n",
              "    </tr>\n",
              "    <tr>\n",
              "      <th>12</th>\n",
              "      <td>1815</td>\n",
              "      <td>0</td>\n",
              "      <td>2.8</td>\n",
              "      <td>0</td>\n",
              "      <td>2</td>\n",
              "      <td>0</td>\n",
              "      <td>33</td>\n",
              "      <td>0.6</td>\n",
              "      <td>159</td>\n",
              "      <td>4</td>\n",
              "      <td>...</td>\n",
              "      <td>607</td>\n",
              "      <td>748</td>\n",
              "      <td>1482</td>\n",
              "      <td>18</td>\n",
              "      <td>0</td>\n",
              "      <td>2</td>\n",
              "      <td>1</td>\n",
              "      <td>0</td>\n",
              "      <td>0</td>\n",
              "      <td>1</td>\n",
              "    </tr>\n",
              "    <tr>\n",
              "      <th>13</th>\n",
              "      <td>803</td>\n",
              "      <td>1</td>\n",
              "      <td>2.1</td>\n",
              "      <td>0</td>\n",
              "      <td>7</td>\n",
              "      <td>0</td>\n",
              "      <td>17</td>\n",
              "      <td>1.0</td>\n",
              "      <td>198</td>\n",
              "      <td>4</td>\n",
              "      <td>...</td>\n",
              "      <td>344</td>\n",
              "      <td>1440</td>\n",
              "      <td>2680</td>\n",
              "      <td>7</td>\n",
              "      <td>1</td>\n",
              "      <td>4</td>\n",
              "      <td>1</td>\n",
              "      <td>0</td>\n",
              "      <td>1</td>\n",
              "      <td>2</td>\n",
              "    </tr>\n",
              "    <tr>\n",
              "      <th>14</th>\n",
              "      <td>1866</td>\n",
              "      <td>0</td>\n",
              "      <td>0.5</td>\n",
              "      <td>0</td>\n",
              "      <td>13</td>\n",
              "      <td>1</td>\n",
              "      <td>52</td>\n",
              "      <td>0.7</td>\n",
              "      <td>185</td>\n",
              "      <td>1</td>\n",
              "      <td>...</td>\n",
              "      <td>356</td>\n",
              "      <td>563</td>\n",
              "      <td>373</td>\n",
              "      <td>14</td>\n",
              "      <td>9</td>\n",
              "      <td>3</td>\n",
              "      <td>1</td>\n",
              "      <td>0</td>\n",
              "      <td>1</td>\n",
              "      <td>0</td>\n",
              "    </tr>\n",
              "    <tr>\n",
              "      <th>15</th>\n",
              "      <td>775</td>\n",
              "      <td>0</td>\n",
              "      <td>1.0</td>\n",
              "      <td>0</td>\n",
              "      <td>3</td>\n",
              "      <td>0</td>\n",
              "      <td>46</td>\n",
              "      <td>0.7</td>\n",
              "      <td>159</td>\n",
              "      <td>2</td>\n",
              "      <td>...</td>\n",
              "      <td>862</td>\n",
              "      <td>1864</td>\n",
              "      <td>568</td>\n",
              "      <td>17</td>\n",
              "      <td>15</td>\n",
              "      <td>11</td>\n",
              "      <td>1</td>\n",
              "      <td>1</td>\n",
              "      <td>1</td>\n",
              "      <td>0</td>\n",
              "    </tr>\n",
              "    <tr>\n",
              "      <th>16</th>\n",
              "      <td>838</td>\n",
              "      <td>0</td>\n",
              "      <td>0.5</td>\n",
              "      <td>0</td>\n",
              "      <td>1</td>\n",
              "      <td>1</td>\n",
              "      <td>13</td>\n",
              "      <td>0.1</td>\n",
              "      <td>196</td>\n",
              "      <td>8</td>\n",
              "      <td>...</td>\n",
              "      <td>984</td>\n",
              "      <td>1850</td>\n",
              "      <td>3554</td>\n",
              "      <td>10</td>\n",
              "      <td>9</td>\n",
              "      <td>19</td>\n",
              "      <td>1</td>\n",
              "      <td>0</td>\n",
              "      <td>1</td>\n",
              "      <td>3</td>\n",
              "    </tr>\n",
              "    <tr>\n",
              "      <th>17</th>\n",
              "      <td>595</td>\n",
              "      <td>0</td>\n",
              "      <td>0.9</td>\n",
              "      <td>1</td>\n",
              "      <td>7</td>\n",
              "      <td>1</td>\n",
              "      <td>23</td>\n",
              "      <td>0.1</td>\n",
              "      <td>121</td>\n",
              "      <td>3</td>\n",
              "      <td>...</td>\n",
              "      <td>441</td>\n",
              "      <td>810</td>\n",
              "      <td>3752</td>\n",
              "      <td>10</td>\n",
              "      <td>2</td>\n",
              "      <td>18</td>\n",
              "      <td>1</td>\n",
              "      <td>1</td>\n",
              "      <td>0</td>\n",
              "      <td>3</td>\n",
              "    </tr>\n",
              "    <tr>\n",
              "      <th>18</th>\n",
              "      <td>1131</td>\n",
              "      <td>1</td>\n",
              "      <td>0.5</td>\n",
              "      <td>1</td>\n",
              "      <td>11</td>\n",
              "      <td>0</td>\n",
              "      <td>49</td>\n",
              "      <td>0.6</td>\n",
              "      <td>101</td>\n",
              "      <td>5</td>\n",
              "      <td>...</td>\n",
              "      <td>658</td>\n",
              "      <td>878</td>\n",
              "      <td>1835</td>\n",
              "      <td>19</td>\n",
              "      <td>13</td>\n",
              "      <td>16</td>\n",
              "      <td>1</td>\n",
              "      <td>1</td>\n",
              "      <td>0</td>\n",
              "      <td>1</td>\n",
              "    </tr>\n",
              "    <tr>\n",
              "      <th>19</th>\n",
              "      <td>682</td>\n",
              "      <td>1</td>\n",
              "      <td>0.5</td>\n",
              "      <td>0</td>\n",
              "      <td>4</td>\n",
              "      <td>0</td>\n",
              "      <td>19</td>\n",
              "      <td>1.0</td>\n",
              "      <td>121</td>\n",
              "      <td>4</td>\n",
              "      <td>...</td>\n",
              "      <td>902</td>\n",
              "      <td>1064</td>\n",
              "      <td>2337</td>\n",
              "      <td>11</td>\n",
              "      <td>1</td>\n",
              "      <td>18</td>\n",
              "      <td>0</td>\n",
              "      <td>1</td>\n",
              "      <td>1</td>\n",
              "      <td>1</td>\n",
              "    </tr>\n",
              "  </tbody>\n",
              "</table>\n",
              "<p>20 rows × 21 columns</p>\n",
              "</div>\n",
              "    <div class=\"colab-df-buttons\">\n",
              "\n",
              "  <div class=\"colab-df-container\">\n",
              "    <button class=\"colab-df-convert\" onclick=\"convertToInteractive('df-ec65dcce-932b-43c0-b58d-66140b8044f9')\"\n",
              "            title=\"Convert this dataframe to an interactive table.\"\n",
              "            style=\"display:none;\">\n",
              "\n",
              "  <svg xmlns=\"http://www.w3.org/2000/svg\" height=\"24px\" viewBox=\"0 -960 960 960\">\n",
              "    <path d=\"M120-120v-720h720v720H120Zm60-500h600v-160H180v160Zm220 220h160v-160H400v160Zm0 220h160v-160H400v160ZM180-400h160v-160H180v160Zm440 0h160v-160H620v160ZM180-180h160v-160H180v160Zm440 0h160v-160H620v160Z\"/>\n",
              "  </svg>\n",
              "    </button>\n",
              "\n",
              "  <style>\n",
              "    .colab-df-container {\n",
              "      display:flex;\n",
              "      gap: 12px;\n",
              "    }\n",
              "\n",
              "    .colab-df-convert {\n",
              "      background-color: #E8F0FE;\n",
              "      border: none;\n",
              "      border-radius: 50%;\n",
              "      cursor: pointer;\n",
              "      display: none;\n",
              "      fill: #1967D2;\n",
              "      height: 32px;\n",
              "      padding: 0 0 0 0;\n",
              "      width: 32px;\n",
              "    }\n",
              "\n",
              "    .colab-df-convert:hover {\n",
              "      background-color: #E2EBFA;\n",
              "      box-shadow: 0px 1px 2px rgba(60, 64, 67, 0.3), 0px 1px 3px 1px rgba(60, 64, 67, 0.15);\n",
              "      fill: #174EA6;\n",
              "    }\n",
              "\n",
              "    .colab-df-buttons div {\n",
              "      margin-bottom: 4px;\n",
              "    }\n",
              "\n",
              "    [theme=dark] .colab-df-convert {\n",
              "      background-color: #3B4455;\n",
              "      fill: #D2E3FC;\n",
              "    }\n",
              "\n",
              "    [theme=dark] .colab-df-convert:hover {\n",
              "      background-color: #434B5C;\n",
              "      box-shadow: 0px 1px 3px 1px rgba(0, 0, 0, 0.15);\n",
              "      filter: drop-shadow(0px 1px 2px rgba(0, 0, 0, 0.3));\n",
              "      fill: #FFFFFF;\n",
              "    }\n",
              "  </style>\n",
              "\n",
              "    <script>\n",
              "      const buttonEl =\n",
              "        document.querySelector('#df-ec65dcce-932b-43c0-b58d-66140b8044f9 button.colab-df-convert');\n",
              "      buttonEl.style.display =\n",
              "        google.colab.kernel.accessAllowed ? 'block' : 'none';\n",
              "\n",
              "      async function convertToInteractive(key) {\n",
              "        const element = document.querySelector('#df-ec65dcce-932b-43c0-b58d-66140b8044f9');\n",
              "        const dataTable =\n",
              "          await google.colab.kernel.invokeFunction('convertToInteractive',\n",
              "                                                    [key], {});\n",
              "        if (!dataTable) return;\n",
              "\n",
              "        const docLinkHtml = 'Like what you see? Visit the ' +\n",
              "          '<a target=\"_blank\" href=https://colab.research.google.com/notebooks/data_table.ipynb>data table notebook</a>'\n",
              "          + ' to learn more about interactive tables.';\n",
              "        element.innerHTML = '';\n",
              "        dataTable['output_type'] = 'display_data';\n",
              "        await google.colab.output.renderOutput(dataTable, element);\n",
              "        const docLink = document.createElement('div');\n",
              "        docLink.innerHTML = docLinkHtml;\n",
              "        element.appendChild(docLink);\n",
              "      }\n",
              "    </script>\n",
              "  </div>\n",
              "\n",
              "\n",
              "<div id=\"df-3b019359-aa1a-4383-b864-d388f4670144\">\n",
              "  <button class=\"colab-df-quickchart\" onclick=\"quickchart('df-3b019359-aa1a-4383-b864-d388f4670144')\"\n",
              "            title=\"Suggest charts\"\n",
              "            style=\"display:none;\">\n",
              "\n",
              "<svg xmlns=\"http://www.w3.org/2000/svg\" height=\"24px\"viewBox=\"0 0 24 24\"\n",
              "     width=\"24px\">\n",
              "    <g>\n",
              "        <path d=\"M19 3H5c-1.1 0-2 .9-2 2v14c0 1.1.9 2 2 2h14c1.1 0 2-.9 2-2V5c0-1.1-.9-2-2-2zM9 17H7v-7h2v7zm4 0h-2V7h2v10zm4 0h-2v-4h2v4z\"/>\n",
              "    </g>\n",
              "</svg>\n",
              "  </button>\n",
              "\n",
              "<style>\n",
              "  .colab-df-quickchart {\n",
              "      --bg-color: #E8F0FE;\n",
              "      --fill-color: #1967D2;\n",
              "      --hover-bg-color: #E2EBFA;\n",
              "      --hover-fill-color: #174EA6;\n",
              "      --disabled-fill-color: #AAA;\n",
              "      --disabled-bg-color: #DDD;\n",
              "  }\n",
              "\n",
              "  [theme=dark] .colab-df-quickchart {\n",
              "      --bg-color: #3B4455;\n",
              "      --fill-color: #D2E3FC;\n",
              "      --hover-bg-color: #434B5C;\n",
              "      --hover-fill-color: #FFFFFF;\n",
              "      --disabled-bg-color: #3B4455;\n",
              "      --disabled-fill-color: #666;\n",
              "  }\n",
              "\n",
              "  .colab-df-quickchart {\n",
              "    background-color: var(--bg-color);\n",
              "    border: none;\n",
              "    border-radius: 50%;\n",
              "    cursor: pointer;\n",
              "    display: none;\n",
              "    fill: var(--fill-color);\n",
              "    height: 32px;\n",
              "    padding: 0;\n",
              "    width: 32px;\n",
              "  }\n",
              "\n",
              "  .colab-df-quickchart:hover {\n",
              "    background-color: var(--hover-bg-color);\n",
              "    box-shadow: 0 1px 2px rgba(60, 64, 67, 0.3), 0 1px 3px 1px rgba(60, 64, 67, 0.15);\n",
              "    fill: var(--button-hover-fill-color);\n",
              "  }\n",
              "\n",
              "  .colab-df-quickchart-complete:disabled,\n",
              "  .colab-df-quickchart-complete:disabled:hover {\n",
              "    background-color: var(--disabled-bg-color);\n",
              "    fill: var(--disabled-fill-color);\n",
              "    box-shadow: none;\n",
              "  }\n",
              "\n",
              "  .colab-df-spinner {\n",
              "    border: 2px solid var(--fill-color);\n",
              "    border-color: transparent;\n",
              "    border-bottom-color: var(--fill-color);\n",
              "    animation:\n",
              "      spin 1s steps(1) infinite;\n",
              "  }\n",
              "\n",
              "  @keyframes spin {\n",
              "    0% {\n",
              "      border-color: transparent;\n",
              "      border-bottom-color: var(--fill-color);\n",
              "      border-left-color: var(--fill-color);\n",
              "    }\n",
              "    20% {\n",
              "      border-color: transparent;\n",
              "      border-left-color: var(--fill-color);\n",
              "      border-top-color: var(--fill-color);\n",
              "    }\n",
              "    30% {\n",
              "      border-color: transparent;\n",
              "      border-left-color: var(--fill-color);\n",
              "      border-top-color: var(--fill-color);\n",
              "      border-right-color: var(--fill-color);\n",
              "    }\n",
              "    40% {\n",
              "      border-color: transparent;\n",
              "      border-right-color: var(--fill-color);\n",
              "      border-top-color: var(--fill-color);\n",
              "    }\n",
              "    60% {\n",
              "      border-color: transparent;\n",
              "      border-right-color: var(--fill-color);\n",
              "    }\n",
              "    80% {\n",
              "      border-color: transparent;\n",
              "      border-right-color: var(--fill-color);\n",
              "      border-bottom-color: var(--fill-color);\n",
              "    }\n",
              "    90% {\n",
              "      border-color: transparent;\n",
              "      border-bottom-color: var(--fill-color);\n",
              "    }\n",
              "  }\n",
              "</style>\n",
              "\n",
              "  <script>\n",
              "    async function quickchart(key) {\n",
              "      const quickchartButtonEl =\n",
              "        document.querySelector('#' + key + ' button');\n",
              "      quickchartButtonEl.disabled = true;  // To prevent multiple clicks.\n",
              "      quickchartButtonEl.classList.add('colab-df-spinner');\n",
              "      try {\n",
              "        const charts = await google.colab.kernel.invokeFunction(\n",
              "            'suggestCharts', [key], {});\n",
              "      } catch (error) {\n",
              "        console.error('Error during call to suggestCharts:', error);\n",
              "      }\n",
              "      quickchartButtonEl.classList.remove('colab-df-spinner');\n",
              "      quickchartButtonEl.classList.add('colab-df-quickchart-complete');\n",
              "    }\n",
              "    (() => {\n",
              "      let quickchartButtonEl =\n",
              "        document.querySelector('#df-3b019359-aa1a-4383-b864-d388f4670144 button');\n",
              "      quickchartButtonEl.style.display =\n",
              "        google.colab.kernel.accessAllowed ? 'block' : 'none';\n",
              "    })();\n",
              "  </script>\n",
              "</div>\n",
              "\n",
              "    </div>\n",
              "  </div>\n"
            ],
            "application/vnd.google.colaboratory.intrinsic+json": {
              "type": "dataframe",
              "variable_name": "data"
            }
          },
          "metadata": {},
          "execution_count": 3
        }
      ]
    },
    {
      "cell_type": "code",
      "source": [
        "data.shape"
      ],
      "metadata": {
        "colab": {
          "base_uri": "https://localhost:8080/"
        },
        "id": "mB3hSIbxQncN",
        "outputId": "e41f6a7e-aa86-411e-a82c-2ddb7df1530d"
      },
      "execution_count": 4,
      "outputs": [
        {
          "output_type": "execute_result",
          "data": {
            "text/plain": [
              "(2000, 21)"
            ]
          },
          "metadata": {},
          "execution_count": 4
        }
      ]
    },
    {
      "cell_type": "markdown",
      "source": [
        "To view the information of dataset"
      ],
      "metadata": {
        "id": "4Eo1wTN00Jsd"
      }
    },
    {
      "cell_type": "code",
      "source": [
        "data.info()"
      ],
      "metadata": {
        "colab": {
          "base_uri": "https://localhost:8080/"
        },
        "id": "94aB2PZYOR6g",
        "outputId": "48743084-f66a-441d-9f68-a190730d1f54"
      },
      "execution_count": 5,
      "outputs": [
        {
          "output_type": "stream",
          "name": "stdout",
          "text": [
            "<class 'pandas.core.frame.DataFrame'>\n",
            "RangeIndex: 2000 entries, 0 to 1999\n",
            "Data columns (total 21 columns):\n",
            " #   Column          Non-Null Count  Dtype  \n",
            "---  ------          --------------  -----  \n",
            " 0   battery_power   2000 non-null   int64  \n",
            " 1   bluetooth       2000 non-null   int64  \n",
            " 2   clock_speed     2000 non-null   float64\n",
            " 3   dual_sim        2000 non-null   int64  \n",
            " 4   front_cam       2000 non-null   int64  \n",
            " 5   4G              2000 non-null   int64  \n",
            " 6   int_memory      2000 non-null   int64  \n",
            " 7   m_dep           2000 non-null   float64\n",
            " 8   mobile_wt       2000 non-null   int64  \n",
            " 9   n_cores         2000 non-null   int64  \n",
            " 10  primary_camera  2000 non-null   int64  \n",
            " 11  px_height       2000 non-null   int64  \n",
            " 12  px_width        2000 non-null   int64  \n",
            " 13  ram             2000 non-null   int64  \n",
            " 14  sc_h            2000 non-null   int64  \n",
            " 15  sc_w            2000 non-null   int64  \n",
            " 16  talk_time       2000 non-null   int64  \n",
            " 17  three_g         2000 non-null   int64  \n",
            " 18  touch_screen    2000 non-null   int64  \n",
            " 19  wifi            2000 non-null   int64  \n",
            " 20  price_range     2000 non-null   int64  \n",
            "dtypes: float64(2), int64(19)\n",
            "memory usage: 328.2 KB\n"
          ]
        }
      ]
    },
    {
      "cell_type": "markdown",
      "source": [
        "To check for null values in the dataset"
      ],
      "metadata": {
        "id": "P6xSYiMk0b-8"
      }
    },
    {
      "cell_type": "code",
      "source": [
        "data.isna().sum()"
      ],
      "metadata": {
        "id": "Dv9bMsjr0YhD"
      },
      "execution_count": null,
      "outputs": []
    },
    {
      "cell_type": "markdown",
      "source": [
        "Statistical observation of dataset"
      ],
      "metadata": {
        "id": "aAKZKO990gkL"
      }
    },
    {
      "cell_type": "code",
      "source": [
        "data.hist(figsize=(20,10),bins=50);"
      ],
      "metadata": {
        "id": "Hv3UCoO10Xv3"
      },
      "execution_count": null,
      "outputs": []
    },
    {
      "cell_type": "code",
      "source": [
        "#Datapreparation Step"
      ],
      "metadata": {
        "id": "pfP579PYiXDZ"
      },
      "execution_count": 6,
      "outputs": []
    },
    {
      "cell_type": "code",
      "source": [
        "x=data.iloc[:,0:20]\n",
        "y=data.iloc[:,20]"
      ],
      "metadata": {
        "id": "SqH6aJJLOXz2"
      },
      "execution_count": 7,
      "outputs": []
    },
    {
      "cell_type": "code",
      "source": [
        "#Onehot Encoding of Y_Labels (Target Outputs)"
      ],
      "metadata": {
        "id": "RH3OZYkEib1v"
      },
      "execution_count": 8,
      "outputs": []
    },
    {
      "cell_type": "code",
      "source": [
        "y=pd.get_dummies(y)\n"
      ],
      "metadata": {
        "id": "PQf-GR7yPgKn"
      },
      "execution_count": 9,
      "outputs": []
    },
    {
      "cell_type": "markdown",
      "source": [
        "Spliting the dataset as training and testing"
      ],
      "metadata": {
        "id": "LNjzteuE00sF"
      }
    },
    {
      "cell_type": "code",
      "source": [
        "from sklearn.model_selection import train_test_split"
      ],
      "metadata": {
        "id": "YEhfMVjWYkxl"
      },
      "execution_count": 10,
      "outputs": []
    },
    {
      "cell_type": "code",
      "source": [
        "x_train,x_test,y_train,y_test=train_test_split(x,y,test_size=0.5,random_state=42)"
      ],
      "metadata": {
        "id": "O7eMO89VYo2i"
      },
      "execution_count": 11,
      "outputs": []
    },
    {
      "cell_type": "code",
      "source": [
        "#Standard Scaling"
      ],
      "metadata": {
        "id": "2-fpAPBF0yTP"
      },
      "execution_count": null,
      "outputs": []
    },
    {
      "cell_type": "markdown",
      "source": [],
      "metadata": {
        "id": "5ErD7_I80xxF"
      }
    },
    {
      "cell_type": "code",
      "source": [
        "from sklearn.preprocessing import StandardScaler\n",
        "sc = StandardScaler()"
      ],
      "metadata": {
        "id": "SLPr3szXbLql"
      },
      "execution_count": 12,
      "outputs": []
    },
    {
      "cell_type": "code",
      "source": [
        "x_train = sc.fit_transform(x_train)\n",
        "x_test = sc.transform(x_test)"
      ],
      "metadata": {
        "id": "t0_FVt11bNnU"
      },
      "execution_count": 13,
      "outputs": []
    },
    {
      "cell_type": "code",
      "source": [
        "x_train = pd.DataFrame(x_train)\n",
        "x_test = pd.DataFrame(x_test)"
      ],
      "metadata": {
        "id": "2GHnBjGUbaxy"
      },
      "execution_count": 14,
      "outputs": []
    },
    {
      "cell_type": "code",
      "source": [
        "from sklearn.model_selection import GridSearchCV\n",
        "from tensorflow.keras.models import Sequential\n",
        "from tensorflow.keras.layers import Dense\n",
        "from tensorflow.keras.layers import Dropout"
      ],
      "metadata": {
        "id": "aIal7UXPO6su"
      },
      "execution_count": 15,
      "outputs": []
    },
    {
      "cell_type": "code",
      "source": [
        "y.shape[1]"
      ],
      "metadata": {
        "colab": {
          "base_uri": "https://localhost:8080/"
        },
        "id": "AlI7uE__b0Ic",
        "outputId": "670c04f2-150a-45a1-aff6-1fc48bb97cf7"
      },
      "execution_count": 16,
      "outputs": [
        {
          "output_type": "execute_result",
          "data": {
            "text/plain": [
              "4"
            ]
          },
          "metadata": {},
          "execution_count": 16
        }
      ]
    },
    {
      "cell_type": "code",
      "source": [
        "#Initialising the ANN\n",
        "#Adding Dense Layers"
      ],
      "metadata": {
        "id": "BEQAVvpEihsO"
      },
      "execution_count": 17,
      "outputs": []
    },
    {
      "cell_type": "code",
      "source": [
        "model=Sequential()\n",
        "model.add(Dense(20,  activation = 'relu', input_dim=20))\n",
        "model.add(Dropout(0.1))\n",
        "model.add(Dense( 15,activation = 'sigmoid'))\n",
        "model.add(Dense(10, activation = 'relu'))\n",
        "model.add(Dense(5, activation = 'sigmoid'))\n",
        "model.add(Dense(4, activation = 'softmax'))\n",
        "model.compile(optimizer= 'adam', loss='categorical_crossentropy', metrics = ['accuracy'])\n"
      ],
      "metadata": {
        "id": "Fwk0FysObomA"
      },
      "execution_count": 18,
      "outputs": []
    },
    {
      "cell_type": "code",
      "source": [
        "history = model.fit(x_train, y_train, epochs= 80, batch_size=50)"
      ],
      "metadata": {
        "colab": {
          "base_uri": "https://localhost:8080/"
        },
        "id": "VgtY0rYrcZRY",
        "outputId": "87d7d4ea-c134-4c3b-a411-2be7b53b8d30"
      },
      "execution_count": 19,
      "outputs": [
        {
          "output_type": "stream",
          "name": "stdout",
          "text": [
            "Epoch 1/80\n",
            "20/20 [==============================] - 2s 3ms/step - loss: 1.4410 - accuracy: 0.2480\n",
            "Epoch 2/80\n",
            "20/20 [==============================] - 0s 4ms/step - loss: 1.4173 - accuracy: 0.2480\n",
            "Epoch 3/80\n",
            "20/20 [==============================] - 0s 4ms/step - loss: 1.4000 - accuracy: 0.2480\n",
            "Epoch 4/80\n",
            "20/20 [==============================] - 0s 4ms/step - loss: 1.3879 - accuracy: 0.2520\n",
            "Epoch 5/80\n",
            "20/20 [==============================] - 0s 3ms/step - loss: 1.3794 - accuracy: 0.2500\n",
            "Epoch 6/80\n",
            "20/20 [==============================] - 0s 3ms/step - loss: 1.3700 - accuracy: 0.2570\n",
            "Epoch 7/80\n",
            "20/20 [==============================] - 0s 2ms/step - loss: 1.3622 - accuracy: 0.2530\n",
            "Epoch 8/80\n",
            "20/20 [==============================] - 0s 2ms/step - loss: 1.3497 - accuracy: 0.3080\n",
            "Epoch 9/80\n",
            "20/20 [==============================] - 0s 2ms/step - loss: 1.3323 - accuracy: 0.4430\n",
            "Epoch 10/80\n",
            "20/20 [==============================] - 0s 2ms/step - loss: 1.3074 - accuracy: 0.5540\n",
            "Epoch 11/80\n",
            "20/20 [==============================] - 0s 2ms/step - loss: 1.2773 - accuracy: 0.6030\n",
            "Epoch 12/80\n",
            "20/20 [==============================] - 0s 2ms/step - loss: 1.2411 - accuracy: 0.6000\n",
            "Epoch 13/80\n",
            "20/20 [==============================] - 0s 2ms/step - loss: 1.2031 - accuracy: 0.6130\n",
            "Epoch 14/80\n",
            "20/20 [==============================] - 0s 2ms/step - loss: 1.1638 - accuracy: 0.6030\n",
            "Epoch 15/80\n",
            "20/20 [==============================] - 0s 2ms/step - loss: 1.1224 - accuracy: 0.6180\n",
            "Epoch 16/80\n",
            "20/20 [==============================] - 0s 3ms/step - loss: 1.0853 - accuracy: 0.6060\n",
            "Epoch 17/80\n",
            "20/20 [==============================] - 0s 2ms/step - loss: 1.0479 - accuracy: 0.6140\n",
            "Epoch 18/80\n",
            "20/20 [==============================] - 0s 2ms/step - loss: 1.0107 - accuracy: 0.6330\n",
            "Epoch 19/80\n",
            "20/20 [==============================] - 0s 2ms/step - loss: 0.9745 - accuracy: 0.6570\n",
            "Epoch 20/80\n",
            "20/20 [==============================] - 0s 2ms/step - loss: 0.9399 - accuracy: 0.6680\n",
            "Epoch 21/80\n",
            "20/20 [==============================] - 0s 2ms/step - loss: 0.9138 - accuracy: 0.6850\n",
            "Epoch 22/80\n",
            "20/20 [==============================] - 0s 2ms/step - loss: 0.8807 - accuracy: 0.7000\n",
            "Epoch 23/80\n",
            "20/20 [==============================] - 0s 2ms/step - loss: 0.8547 - accuracy: 0.7350\n",
            "Epoch 24/80\n",
            "20/20 [==============================] - 0s 2ms/step - loss: 0.8286 - accuracy: 0.7640\n",
            "Epoch 25/80\n",
            "20/20 [==============================] - 0s 2ms/step - loss: 0.8069 - accuracy: 0.7680\n",
            "Epoch 26/80\n",
            "20/20 [==============================] - 0s 2ms/step - loss: 0.7868 - accuracy: 0.7850\n",
            "Epoch 27/80\n",
            "20/20 [==============================] - 0s 2ms/step - loss: 0.7709 - accuracy: 0.7950\n",
            "Epoch 28/80\n",
            "20/20 [==============================] - 0s 2ms/step - loss: 0.7527 - accuracy: 0.8050\n",
            "Epoch 29/80\n",
            "20/20 [==============================] - 0s 2ms/step - loss: 0.7312 - accuracy: 0.8360\n",
            "Epoch 30/80\n",
            "20/20 [==============================] - 0s 2ms/step - loss: 0.7202 - accuracy: 0.8220\n",
            "Epoch 31/80\n",
            "20/20 [==============================] - 0s 2ms/step - loss: 0.6985 - accuracy: 0.8650\n",
            "Epoch 32/80\n",
            "20/20 [==============================] - 0s 2ms/step - loss: 0.6875 - accuracy: 0.8680\n",
            "Epoch 33/80\n",
            "20/20 [==============================] - 0s 2ms/step - loss: 0.6724 - accuracy: 0.8690\n",
            "Epoch 34/80\n",
            "20/20 [==============================] - 0s 2ms/step - loss: 0.6552 - accuracy: 0.8910\n",
            "Epoch 35/80\n",
            "20/20 [==============================] - 0s 2ms/step - loss: 0.6479 - accuracy: 0.8750\n",
            "Epoch 36/80\n",
            "20/20 [==============================] - 0s 2ms/step - loss: 0.6310 - accuracy: 0.9030\n",
            "Epoch 37/80\n",
            "20/20 [==============================] - 0s 2ms/step - loss: 0.6212 - accuracy: 0.8940\n",
            "Epoch 38/80\n",
            "20/20 [==============================] - 0s 2ms/step - loss: 0.6054 - accuracy: 0.8940\n",
            "Epoch 39/80\n",
            "20/20 [==============================] - 0s 2ms/step - loss: 0.5932 - accuracy: 0.9040\n",
            "Epoch 40/80\n",
            "20/20 [==============================] - 0s 2ms/step - loss: 0.5789 - accuracy: 0.9180\n",
            "Epoch 41/80\n",
            "20/20 [==============================] - 0s 2ms/step - loss: 0.5797 - accuracy: 0.9020\n",
            "Epoch 42/80\n",
            "20/20 [==============================] - 0s 2ms/step - loss: 0.5651 - accuracy: 0.9140\n",
            "Epoch 43/80\n",
            "20/20 [==============================] - 0s 2ms/step - loss: 0.5553 - accuracy: 0.9090\n",
            "Epoch 44/80\n",
            "20/20 [==============================] - 0s 2ms/step - loss: 0.5415 - accuracy: 0.9150\n",
            "Epoch 45/80\n",
            "20/20 [==============================] - 0s 2ms/step - loss: 0.5340 - accuracy: 0.9080\n",
            "Epoch 46/80\n",
            "20/20 [==============================] - 0s 2ms/step - loss: 0.5243 - accuracy: 0.9250\n",
            "Epoch 47/80\n",
            "20/20 [==============================] - 0s 2ms/step - loss: 0.5130 - accuracy: 0.9230\n",
            "Epoch 48/80\n",
            "20/20 [==============================] - 0s 2ms/step - loss: 0.5009 - accuracy: 0.9210\n",
            "Epoch 49/80\n",
            "20/20 [==============================] - 0s 2ms/step - loss: 0.4945 - accuracy: 0.9240\n",
            "Epoch 50/80\n",
            "20/20 [==============================] - 0s 2ms/step - loss: 0.4880 - accuracy: 0.9260\n",
            "Epoch 51/80\n",
            "20/20 [==============================] - 0s 2ms/step - loss: 0.4792 - accuracy: 0.9260\n",
            "Epoch 52/80\n",
            "20/20 [==============================] - 0s 2ms/step - loss: 0.4756 - accuracy: 0.9210\n",
            "Epoch 53/80\n",
            "20/20 [==============================] - 0s 2ms/step - loss: 0.4679 - accuracy: 0.9240\n",
            "Epoch 54/80\n",
            "20/20 [==============================] - 0s 2ms/step - loss: 0.4529 - accuracy: 0.9350\n",
            "Epoch 55/80\n",
            "20/20 [==============================] - 0s 2ms/step - loss: 0.4511 - accuracy: 0.9320\n",
            "Epoch 56/80\n",
            "20/20 [==============================] - 0s 2ms/step - loss: 0.4341 - accuracy: 0.9340\n",
            "Epoch 57/80\n",
            "20/20 [==============================] - 0s 2ms/step - loss: 0.4392 - accuracy: 0.9280\n",
            "Epoch 58/80\n",
            "20/20 [==============================] - 0s 2ms/step - loss: 0.4260 - accuracy: 0.9380\n",
            "Epoch 59/80\n",
            "20/20 [==============================] - 0s 2ms/step - loss: 0.4249 - accuracy: 0.9330\n",
            "Epoch 60/80\n",
            "20/20 [==============================] - 0s 2ms/step - loss: 0.4223 - accuracy: 0.9270\n",
            "Epoch 61/80\n",
            "20/20 [==============================] - 0s 2ms/step - loss: 0.4115 - accuracy: 0.9340\n",
            "Epoch 62/80\n",
            "20/20 [==============================] - 0s 2ms/step - loss: 0.4112 - accuracy: 0.9310\n",
            "Epoch 63/80\n",
            "20/20 [==============================] - 0s 2ms/step - loss: 0.3969 - accuracy: 0.9420\n",
            "Epoch 64/80\n",
            "20/20 [==============================] - 0s 2ms/step - loss: 0.3858 - accuracy: 0.9480\n",
            "Epoch 65/80\n",
            "20/20 [==============================] - 0s 2ms/step - loss: 0.3917 - accuracy: 0.9380\n",
            "Epoch 66/80\n",
            "20/20 [==============================] - 0s 2ms/step - loss: 0.3804 - accuracy: 0.9460\n",
            "Epoch 67/80\n",
            "20/20 [==============================] - 0s 2ms/step - loss: 0.3730 - accuracy: 0.9400\n",
            "Epoch 68/80\n",
            "20/20 [==============================] - 0s 2ms/step - loss: 0.3737 - accuracy: 0.9420\n",
            "Epoch 69/80\n",
            "20/20 [==============================] - 0s 2ms/step - loss: 0.3713 - accuracy: 0.9360\n",
            "Epoch 70/80\n",
            "20/20 [==============================] - 0s 2ms/step - loss: 0.3570 - accuracy: 0.9520\n",
            "Epoch 71/80\n",
            "20/20 [==============================] - 0s 2ms/step - loss: 0.3669 - accuracy: 0.9390\n",
            "Epoch 72/80\n",
            "20/20 [==============================] - 0s 2ms/step - loss: 0.3450 - accuracy: 0.9570\n",
            "Epoch 73/80\n",
            "20/20 [==============================] - 0s 2ms/step - loss: 0.3469 - accuracy: 0.9490\n",
            "Epoch 74/80\n",
            "20/20 [==============================] - 0s 2ms/step - loss: 0.3345 - accuracy: 0.9560\n",
            "Epoch 75/80\n",
            "20/20 [==============================] - 0s 2ms/step - loss: 0.3382 - accuracy: 0.9460\n",
            "Epoch 76/80\n",
            "20/20 [==============================] - 0s 5ms/step - loss: 0.3323 - accuracy: 0.9510\n",
            "Epoch 77/80\n",
            "20/20 [==============================] - 0s 3ms/step - loss: 0.3154 - accuracy: 0.9590\n",
            "Epoch 78/80\n",
            "20/20 [==============================] - 0s 4ms/step - loss: 0.3107 - accuracy: 0.9550\n",
            "Epoch 79/80\n",
            "20/20 [==============================] - 0s 3ms/step - loss: 0.3187 - accuracy: 0.9510\n",
            "Epoch 80/80\n",
            "20/20 [==============================] - 0s 3ms/step - loss: 0.3094 - accuracy: 0.9590\n"
          ]
        }
      ]
    },
    {
      "cell_type": "code",
      "source": [
        "plt.plot(history.history['accuracy'])\n",
        "\n",
        "plt.title('model accuracy')\n",
        "plt.ylabel('accuracy')\n",
        "plt.xlabel('epoch')\n",
        "\n",
        "plt.show()"
      ],
      "metadata": {
        "colab": {
          "base_uri": "https://localhost:8080/",
          "height": 472
        },
        "id": "RUsuJ7lWh7TG",
        "outputId": "c2bde34f-041e-479d-df1d-27ed453b6630"
      },
      "execution_count": 20,
      "outputs": [
        {
          "output_type": "display_data",
          "data": {
            "text/plain": [
              "<Figure size 640x480 with 1 Axes>"
            ],
            "image/png": "[encoded data removed]"
          },
          "metadata": {}
        }
      ]
    },
    {
      "cell_type": "code",
      "source": [
        "#hyperparameter tuning"
      ],
      "metadata": {
        "id": "opVlU8GhxH8k"
      },
      "execution_count": 21,
      "outputs": []
    },
    {
      "cell_type": "code",
      "source": [
        "def build_model(rate):\n",
        "  model=Sequential()\n",
        "  model.add(Dense(20,  activation = 'relu', input_dim=20))\n",
        "  model.add(Dropout(0.1))\n",
        "  model.add(Dense( 15,activation = 'sigmoid'))\n",
        "  model.add(Dense(10, activation = 'relu'))\n",
        "  model.add(Dense(5, activation = 'sigmoid'))\n",
        "  model.add(Dense(4, activation = 'softmax'))\n",
        "  model.compile(optimizer= 'SGD', loss='categorical_crossentropy', metrics = ['accuracy'])\n",
        "  return model"
      ],
      "metadata": {
        "id": "JP1-iUlOxKzo"
      },
      "execution_count": 45,
      "outputs": []
    },
    {
      "cell_type": "code",
      "source": [
        "seed=7\n",
        "tf.random.set_seed(seed)"
      ],
      "metadata": {
        "id": "n5N6FcLCxSZp"
      },
      "execution_count": 38,
      "outputs": []
    },
    {
      "cell_type": "code",
      "source": [
        "!pip install scikeras"
      ],
      "metadata": {
        "colab": {
          "base_uri": "https://localhost:8080/"
        },
        "id": "bHEfNdHIxXD0",
        "outputId": "c9ae61b9-961b-48be-9722-e1cd2e59c063"
      },
      "execution_count": 24,
      "outputs": [
        {
          "output_type": "stream",
          "name": "stdout",
          "text": [
            "Requirement already satisfied: scikeras in /usr/local/lib/python3.10/dist-packages (0.12.0)\n",
            "Requirement already satisfied: packaging>=0.21 in /usr/local/lib/python3.10/dist-packages (from scikeras) (24.0)\n",
            "Requirement already satisfied: scikit-learn>=1.0.0 in /usr/local/lib/python3.10/dist-packages (from scikeras) (1.2.2)\n",
            "Requirement already satisfied: numpy>=1.17.3 in /usr/local/lib/python3.10/dist-packages (from scikit-learn>=1.0.0->scikeras) (1.25.2)\n",
            "Requirement already satisfied: scipy>=1.3.2 in /usr/local/lib/python3.10/dist-packages (from scikit-learn>=1.0.0->scikeras) (1.11.4)\n",
            "Requirement already satisfied: joblib>=1.1.1 in /usr/local/lib/python3.10/dist-packages (from scikit-learn>=1.0.0->scikeras) (1.3.2)\n",
            "Requirement already satisfied: threadpoolctl>=2.0.0 in /usr/local/lib/python3.10/dist-packages (from scikit-learn>=1.0.0->scikeras) (3.4.0)\n"
          ]
        }
      ]
    },
    {
      "cell_type": "code",
      "source": [
        "from scikeras.wrappers import KerasClassifier"
      ],
      "metadata": {
        "id": "ZXi1vxH1xb0l"
      },
      "execution_count": 39,
      "outputs": []
    },
    {
      "cell_type": "code",
      "source": [
        "model=KerasClassifier(model=build_model,verbose=0)"
      ],
      "metadata": {
        "id": "M3XlrzpRxgwb"
      },
      "execution_count": 40,
      "outputs": []
    },
    {
      "cell_type": "code",
      "source": [
        "\n",
        "rate=[0.01,0.2,0.4]\n",
        "epochs=[10,22,50,80,100]\n",
        "batch_size=[20,50]"
      ],
      "metadata": {
        "id": "fci9d7oLxljt"
      },
      "execution_count": 46,
      "outputs": []
    },
    {
      "cell_type": "code",
      "source": [
        "param_grid=dict(model__rate=rate,epochs=epochs,batch_size=batch_size)"
      ],
      "metadata": {
        "id": "-KL4AglnxqvK"
      },
      "execution_count": 47,
      "outputs": []
    },
    {
      "cell_type": "code",
      "source": [
        "grid=GridSearchCV(estimator=model,param_grid=param_grid,cv=3)"
      ],
      "metadata": {
        "id": "8o2mej74xvP_"
      },
      "execution_count": 48,
      "outputs": []
    },
    {
      "cell_type": "code",
      "source": [
        "grid_result=grid.fit(x_train,y_train)"
      ],
      "metadata": {
        "id": "r6aSKjLbx0Bv"
      },
      "execution_count": 49,
      "outputs": []
    },
    {
      "cell_type": "code",
      "source": [
        "print('Best %f using %s' %(grid_result.best_score_,grid_result.best_params_))"
      ],
      "metadata": {
        "colab": {
          "base_uri": "https://localhost:8080/"
        },
        "id": "wAmletp9x4mZ",
        "outputId": "2519bb68-cdc9-41ce-b97a-89ca95dc35c6"
      },
      "execution_count": 50,
      "outputs": [
        {
          "output_type": "stream",
          "name": "stdout",
          "text": [
            "Best 0.907003 using {'batch_size': 20, 'epochs': 80, 'model__rate': 0.4}\n"
          ]
        }
      ]
    }
  ]
}
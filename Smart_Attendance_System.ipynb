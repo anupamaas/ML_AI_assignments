{
  "cells": [
    {
      "cell_type": "code",
      "execution_count": 1,
      "metadata": {
        "colab": {
          "base_uri": "https://localhost:8080/"
        },
        "id": "aUITOTpmjec5",
        "outputId": "9bdc589b-453c-4da9-c23c-e86650f755f2"
      },
      "outputs": [
        {
          "output_type": "stream",
          "name": "stdout",
          "text": [
            "Drive already mounted at /content/drive; to attempt to forcibly remount, call drive.mount(\"/content/drive\", force_remount=True).\n"
          ]
        }
      ],
      "source": [
        "# Step 1: Mount Google Drive\n",
        "from google.colab import drive\n",
        "drive.mount('/content/drive')\n",
        "\n"
      ]
    },
    {
      "cell_type": "code",
      "execution_count": 2,
      "metadata": {
        "id": "5_kEVObLzgu7"
      },
      "outputs": [],
      "source": [
        "# Step 2: Navigate to the zip file\n",
        "import os\n",
        "zip_path = '/content/drive/MyDrive/archive (2).zip'  # Replace with your actual path"
      ]
    },
    {
      "cell_type": "code",
      "execution_count": null,
      "metadata": {
        "id": "6rpdwYVNztqT"
      },
      "outputs": [],
      "source": [
        "# # Step 3: Extract the zip file\n",
        "# import zipfile\n",
        "\n",
        "# with zipfile.ZipFile(zip_path, 'r') as zip_ref:\n",
        "#     zip_ref.extractall('/content/drive/MyDrive/Attendance')  # Specify the extraction path\n"
      ]
    },
    {
      "cell_type": "code",
      "execution_count": null,
      "metadata": {
        "colab": {
          "base_uri": "https://localhost:8080/"
        },
        "id": "WpmWsjT0zugr",
        "outputId": "9098b741-ea3d-4311-d2bf-7d1c81b73fc4"
      },
      "outputs": [
        {
          "name": "stdout",
          "output_type": "stream",
          "text": [
            "['Celebrity Faces Dataset']\n"
          ]
        }
      ],
      "source": [
        "#  #Verify the extracted files\n",
        "#  extracted_path = '/content/drive/MyDrive/Attendance'\n",
        "#  extracted_files = os.listdir(extracted_path)\n",
        "#  print(extracted_files)"
      ]
    },
    {
      "cell_type": "code",
      "execution_count": 3,
      "metadata": {
        "colab": {
          "base_uri": "https://localhost:8080/"
        },
        "id": "1weJBY_Wz1hh",
        "outputId": "db57da4f-7ad7-40c2-ad2a-076076c2a737"
      },
      "outputs": [
        {
          "output_type": "stream",
          "name": "stdout",
          "text": [
            "['Angelina Jolie', 'Brad Pitt', 'Denzel Washington', 'Hugh Jackman', 'Jennifer Lawrence', 'Johnny Depp', 'Kate Winslet', 'Leonardo DiCaprio', 'Megan Fox', 'Natalie Portman', 'Nicole Kidman', 'Robert Downey Jr', 'Sandra Bullock', 'Scarlett Johansson', 'Tom Cruise', 'Tom Hanks', 'Will Smith']\n"
          ]
        }
      ],
      "source": [
        "\n",
        "# Verify the sub files\n",
        "extracted_path_2 = '/content/drive/MyDrive/Attendance/Celebrity Faces Dataset'\n",
        "extracted_files_2 = os.listdir(extracted_path_2)\n",
        "print(extracted_files_2)"
      ]
    },
    {
      "cell_type": "code",
      "execution_count": 4,
      "metadata": {
        "id": "uhfxNasSoqY6"
      },
      "outputs": [],
      "source": [
        "import os\n",
        "import cv2\n",
        "import numpy as np\n",
        "from sklearn.model_selection import train_test_split\n",
        "from sklearn.preprocessing import LabelEncoder\n",
        "from keras.preprocessing.image import img_to_array\n",
        "from keras.utils import to_categorical\n",
        "from collections import Counter\n"
      ]
    },
    {
      "cell_type": "code",
      "execution_count": 5,
      "metadata": {
        "id": "pJ8x8l-DoxwB"
      },
      "outputs": [],
      "source": [
        "# Preprocess images\n",
        "def preprocess_image(image_path, target_size=(160, 160)):\n",
        "    image = cv2.imread(image_path)\n",
        "    image = cv2.resize(image, target_size)\n",
        "    image = image.astype('float') / 255.0\n",
        "    image = img_to_array(image)\n",
        "    return image"
      ]
    },
    {
      "cell_type": "code",
      "source": [
        "def preprocess_dataset(dataset_path, target_size=(160, 160)):\n",
        "    data = []\n",
        "    labels = []\n",
        "    for root, dirs, files in os.walk(dataset_path):\n",
        "        for file in files:\n",
        "            if file.endswith(('jpg', 'jpeg', 'png')):\n",
        "                image_path = os.path.join(root, file)\n",
        "                image = preprocess_image(image_path, target_size)\n",
        "                label = root.split(os.path.sep)[-1]\n",
        "                data.append(image)\n",
        "                labels.append(label)\n",
        "    return np.array(data), np.array(labels)"
      ],
      "metadata": {
        "id": "ZICIVavJ9aUg"
      },
      "execution_count": 6,
      "outputs": []
    },
    {
      "cell_type": "code",
      "source": [
        "data, labels = preprocess_dataset(extracted_path_2)"
      ],
      "metadata": {
        "id": "JY2P6FOz9lyY"
      },
      "execution_count": 7,
      "outputs": []
    },
    {
      "cell_type": "code",
      "source": [
        "# def preprocess_dataset(dataset_path, target_size=(160, 160)):\n",
        "#     data = []\n",
        "#     labels = []\n",
        "#     class_count = {}\n",
        "\n",
        "#     for root, dirs, files in os.walk(dataset_path):\n",
        "#         for file in files:\n",
        "#             if file.endswith(('jpg', 'jpeg', 'png')):\n",
        "#                 image_path = os.path.join(root, file)\n",
        "#                 image = preprocess_image(image_path, target_size)\n",
        "#                 label = root.split(os.path.sep)[-1]\n",
        "\n",
        "#                 data.append(image)\n",
        "#                 labels.append(label)\n",
        "\n",
        "#                 if label in class_count:\n",
        "#                     class_count[label] += 1\n",
        "#                 else:\n",
        "#                     class_count[label] = 1\n",
        "\n",
        "#     print(f\"Class distribution: {class_count}\")  # Ensure this is before the return statement\n",
        "#     return np.array(data), np.array(labels)"
      ],
      "metadata": {
        "id": "4O0fMRJ5zogW"
      },
      "execution_count": 142,
      "outputs": []
    },
    {
      "cell_type": "code",
      "source": [
        "# # Path to the dataset\n",
        "# dataset_path = '/content/drive/MyDrive/Attendance/Celebrity Faces Dataset'"
      ],
      "metadata": {
        "id": "2x1yYnIL0YcU"
      },
      "execution_count": 131,
      "outputs": []
    },
    {
      "cell_type": "code",
      "execution_count": 143,
      "metadata": {
        "id": "8zh5fUZyo8dv",
        "colab": {
          "base_uri": "https://localhost:8080/"
        },
        "outputId": "870ddf15-08db-4124-987e-fdc80a57fae4"
      },
      "outputs": [
        {
          "output_type": "stream",
          "name": "stdout",
          "text": [
            "Class distribution: {'Angelina Jolie': 100, 'Brad Pitt': 100, 'Denzel Washington': 100, 'Hugh Jackman': 100, 'Jennifer Lawrence': 100, 'Johnny Depp': 100, 'Kate Winslet': 100, 'Leonardo DiCaprio': 100, 'Megan Fox': 100, 'Natalie Portman': 100, 'Nicole Kidman': 100, 'Robert Downey Jr': 100, 'Sandra Bullock': 100, 'Scarlett Johansson': 100, 'Tom Cruise': 100, 'Tom Hanks': 100, 'Will Smith': 100}\n"
          ]
        }
      ],
      "source": [
        "# # Load and preprocess dataset\n",
        "# data, labels = preprocess_dataset(dataset_path)"
      ]
    },
    {
      "cell_type": "code",
      "execution_count": 8,
      "metadata": {
        "colab": {
          "base_uri": "https://localhost:8080/"
        },
        "id": "xp9Ey9VDmKHG",
        "outputId": "f631178c-8d16-4807-8229-307d10a7e2b8"
      },
      "outputs": [
        {
          "output_type": "stream",
          "name": "stdout",
          "text": [
            "Total number of images: 1700\n",
            "Total number of unique classes: 17\n",
            "Class distribution: Counter({'Angelina Jolie': 100, 'Brad Pitt': 100, 'Denzel Washington': 100, 'Hugh Jackman': 100, 'Jennifer Lawrence': 100, 'Johnny Depp': 100, 'Kate Winslet': 100, 'Leonardo DiCaprio': 100, 'Megan Fox': 100, 'Natalie Portman': 100, 'Nicole Kidman': 100, 'Robert Downey Jr': 100, 'Sandra Bullock': 100, 'Scarlett Johansson': 100, 'Tom Cruise': 100, 'Tom Hanks': 100, 'Will Smith': 100})\n"
          ]
        }
      ],
      "source": [
        "def get_dataset_statistics(dataset_path):\n",
        "    image_count = 0\n",
        "    class_counter = Counter()\n",
        "    for root, dirs, files in os.walk(dataset_path):\n",
        "        for file in files:\n",
        "            if file.endswith(('jpg', 'jpeg', 'png')):\n",
        "                image_count += 1\n",
        "                class_label = root.split(os.path.sep)[-1]\n",
        "                class_counter[class_label] += 1\n",
        "\n",
        "    total_classes = len(class_counter)\n",
        "    return image_count, total_classes, class_counter\n",
        "\n",
        "# Path to the extracted dataset\n",
        "dataset_path = '/content/drive/MyDrive/Attendance/Celebrity Faces Dataset'\n",
        "\n",
        "# Get dataset statistics\n",
        "total_images, total_classes, class_distribution = get_dataset_statistics(dataset_path)\n",
        "\n",
        "# Print dataset statistics\n",
        "print(f'Total number of images: {total_images}')\n",
        "print(f'Total number of unique classes: {total_classes}')\n",
        "print(f'Class distribution: {class_distribution}')\n",
        "\n",
        "\n"
      ]
    },
    {
      "cell_type": "code",
      "execution_count": 9,
      "metadata": {
        "colab": {
          "base_uri": "https://localhost:8080/"
        },
        "id": "GBsj8dr9I0Ap",
        "outputId": "6d825639-724d-4346-a3aa-a21c1f8eab9d"
      },
      "outputs": [
        {
          "output_type": "stream",
          "name": "stdout",
          "text": [
            "Unique labels before encoding: ['Angelina Jolie' 'Brad Pitt' 'Denzel Washington' 'Hugh Jackman'\n",
            " 'Jennifer Lawrence' 'Johnny Depp' 'Kate Winslet' 'Leonardo DiCaprio'\n",
            " 'Megan Fox' 'Natalie Portman' 'Nicole Kidman' 'Robert Downey Jr'\n",
            " 'Sandra Bullock' 'Scarlett Johansson' 'Tom Cruise' 'Tom Hanks'\n",
            " 'Will Smith']\n",
            "Number of unique labels: 17\n"
          ]
        }
      ],
      "source": [
        "# Debug: Check unique labels and their count\n",
        "unique_labels = np.unique(labels)\n",
        "print(f'Unique labels before encoding: {unique_labels}')\n",
        "print(f'Number of unique labels: {len(unique_labels)}')"
      ]
    },
    {
      "cell_type": "code",
      "source": [
        "# print(labels)"
      ],
      "metadata": {
        "id": "BdTsvVJzxNvG"
      },
      "execution_count": 107,
      "outputs": []
    },
    {
      "cell_type": "code",
      "source": [
        "# from sklearn.preprocessing import LabelEncoder\n",
        "# import pickle"
      ],
      "metadata": {
        "id": "xagSDTVjxjaR"
      },
      "execution_count": 83,
      "outputs": []
    },
    {
      "cell_type": "code",
      "source": [
        "# labels = [\"Angelina Jolie\", \"Brad Pitt\", \"Denzel Washington\", \"Hugh Jackman\", \"Jennifer Lawrence\",\n",
        "#           \"Johnny Depp\", \"Kate Winslet\", \"Leonardo DiCaprio\", \"Megan Fox\", \"Natalie Portman\",\n",
        "#           \"Nicole Kidman\", \"Robert Downey Jr\", \"Sandra Bullock\", \"Scarlett Johansson\",\n",
        "#           \"Tom Cruise\", \"Tom Hanks\", \"Will Smith\"]\n"
      ],
      "metadata": {
        "id": "ycAERzEtxmb4"
      },
      "execution_count": 94,
      "outputs": []
    },
    {
      "cell_type": "code",
      "source": [
        "# label_encoder = LabelEncoder()\n",
        "# label_encoder.fit(labels)"
      ],
      "metadata": {
        "id": "wwAqMdvBxb4K"
      },
      "execution_count": 97,
      "outputs": []
    },
    {
      "cell_type": "code",
      "source": [
        "# with open('/content/drive/MyDrive/Attendance/label_encoder.pkl', 'wb') as file:\n",
        "#     pickle.dump(label_encoder, file)"
      ],
      "metadata": {
        "id": "EvN6EeKdxroA"
      },
      "execution_count": 105,
      "outputs": []
    },
    {
      "cell_type": "code",
      "execution_count": 13,
      "metadata": {
        "colab": {
          "base_uri": "https://localhost:8080/"
        },
        "id": "t0MIDJZNI7py",
        "outputId": "21540f44-f204-40fc-802a-a880fcac9872"
      },
      "outputs": [
        {
          "output_type": "stream",
          "name": "stdout",
          "text": [
            "Number of classes: 17\n"
          ]
        }
      ],
      "source": [
        "# Determine the number of classes\n",
        "num_classes = len(unique_labels)\n",
        "print(f'Number of classes: {num_classes}')"
      ]
    },
    {
      "cell_type": "code",
      "execution_count": 10,
      "metadata": {
        "id": "bucnEDuqJCeN"
      },
      "outputs": [],
      "source": [
        "# Encode labels\n",
        "label_encoder = LabelEncoder()\n",
        "labels = label_encoder.fit_transform(labels)"
      ]
    },
    {
      "cell_type": "code",
      "execution_count": 11,
      "metadata": {
        "colab": {
          "base_uri": "https://localhost:8080/"
        },
        "id": "QuL7qribJE9n",
        "outputId": "756c247d-e4e2-4370-8924-4ae4c73fd12e"
      },
      "outputs": [
        {
          "output_type": "stream",
          "name": "stdout",
          "text": [
            "Unique labels after encoding: [ 0  1  2  3  4  5  6  7  8  9 10 11 12 13 14 15 16]\n",
            "Number of unique encoded labels: 17\n"
          ]
        }
      ],
      "source": [
        "# Debug: Check unique encoded labels and their count\n",
        "unique_encoded_labels = np.unique(labels)\n",
        "print(f'Unique labels after encoding: {unique_encoded_labels}')\n",
        "print(f'Number of unique encoded labels: {len(unique_encoded_labels)}')"
      ]
    },
    {
      "cell_type": "code",
      "execution_count": 14,
      "metadata": {
        "id": "E8Ci01ZdJRuE"
      },
      "outputs": [],
      "source": [
        "# Convert labels to one-hot encoding\n",
        "labels = to_categorical(labels, num_classes=num_classes)"
      ]
    },
    {
      "cell_type": "code",
      "execution_count": 15,
      "metadata": {
        "colab": {
          "base_uri": "https://localhost:8080/"
        },
        "id": "YyGxMx7_JVIM",
        "outputId": "4ed5a49c-5d22-49fa-f4e1-904842777f66"
      },
      "outputs": [
        {
          "output_type": "execute_result",
          "data": {
            "text/plain": [
              "(1700, 17)"
            ]
          },
          "metadata": {},
          "execution_count": 15
        }
      ],
      "source": [
        "labels.shape"
      ]
    },
    {
      "cell_type": "code",
      "execution_count": 16,
      "metadata": {
        "id": "wDcsaczspJWg"
      },
      "outputs": [],
      "source": [
        "# Split dataset\n",
        "X_train, X_temp, y_train, y_temp = train_test_split(data, labels, test_size=0.4, random_state=42)\n",
        "X_val, X_test, y_val, y_test = train_test_split(X_temp, y_temp, test_size=0.5, random_state=42)"
      ]
    },
    {
      "cell_type": "code",
      "execution_count": 17,
      "metadata": {
        "colab": {
          "base_uri": "https://localhost:8080/"
        },
        "id": "JHZSyzCJLHKx",
        "outputId": "a3a1df1b-db8c-46b2-d658-dff63fea4d29"
      },
      "outputs": [
        {
          "output_type": "execute_result",
          "data": {
            "text/plain": [
              "(1700, 17)"
            ]
          },
          "metadata": {},
          "execution_count": 17
        }
      ],
      "source": [
        "labels.shape"
      ]
    },
    {
      "cell_type": "code",
      "execution_count": 18,
      "metadata": {
        "colab": {
          "base_uri": "https://localhost:8080/"
        },
        "id": "M70onh-OpKFu",
        "outputId": "05d1dece-c9b3-44c0-9198-ce5d39f48223"
      },
      "outputs": [
        {
          "output_type": "stream",
          "name": "stdout",
          "text": [
            "Training set: (1020, 160, 160, 3), (1020, 17)\n",
            "Validation set: (340, 160, 160, 3), (340, 17)\n",
            "Test set: (340, 160, 160, 3), (340, 17)\n"
          ]
        }
      ],
      "source": [
        "# Save splits (optional)\n",
        "np.save('X_train.npy', X_train)\n",
        "np.save('y_train.npy', y_train)\n",
        "np.save('X_val.npy', X_val)\n",
        "np.save('y_val.npy', y_val)\n",
        "np.save('X_test.npy', X_test)\n",
        "np.save('y_test.npy', y_test)\n",
        "\n",
        "print(f'Training set: {X_train.shape}, {y_train.shape}')\n",
        "print(f'Validation set: {X_val.shape}, {y_val.shape}')\n",
        "print(f'Test set: {X_test.shape}, {y_test.shape}')"
      ]
    },
    {
      "cell_type": "code",
      "execution_count": 19,
      "metadata": {
        "colab": {
          "base_uri": "https://localhost:8080/"
        },
        "id": "cijxlmo-LKKW",
        "outputId": "bd91242d-6d33-46b2-e78d-71a7676622c9"
      },
      "outputs": [
        {
          "output_type": "execute_result",
          "data": {
            "text/plain": [
              "(1700, 17)"
            ]
          },
          "metadata": {},
          "execution_count": 19
        }
      ],
      "source": [
        "labels.shape"
      ]
    },
    {
      "cell_type": "code",
      "execution_count": 20,
      "metadata": {
        "colab": {
          "base_uri": "https://localhost:8080/"
        },
        "id": "ceCbslt1LRYf",
        "outputId": "eccf79de-8d26-4d5a-bbf1-f709d65d9563"
      },
      "outputs": [
        {
          "output_type": "stream",
          "name": "stdout",
          "text": [
            "Number of classes: 17\n"
          ]
        }
      ],
      "source": [
        "# Determine the number of classes\n",
        "num_classes = len(unique_labels)\n",
        "print(f'Number of classes: {num_classes}')"
      ]
    },
    {
      "cell_type": "code",
      "execution_count": 21,
      "metadata": {
        "id": "dVwSHHN1oUH6"
      },
      "outputs": [],
      "source": [
        "import numpy as np\n",
        "import tensorflow as tf\n",
        "from tensorflow.keras.applications import VGG16,EfficientNetB0\n",
        "from tensorflow.keras.models import Sequential\n",
        "from tensorflow.keras.regularizers import l2\n",
        "from tensorflow.keras.layers import Dense, Dropout, Flatten, BatchNormalization, GlobalAveragePooling2D, Conv2D, MaxPooling2D\n",
        "from tensorflow.keras.optimizers import Adam\n",
        "\n",
        "from tensorflow.keras.callbacks import EarlyStopping, ModelCheckpoint, ReduceLROnPlateau\n",
        "from tensorflow.keras.preprocessing.image import ImageDataGenerator\n"
      ]
    },
    {
      "cell_type": "code",
      "execution_count": 22,
      "metadata": {
        "id": "bE1Stx38qMq2"
      },
      "outputs": [],
      "source": [
        "# Load the preprocessed data\n",
        "X_train = np.load('X_train.npy')\n",
        "y_train = np.load('y_train.npy')\n",
        "X_val = np.load('X_val.npy')\n",
        "y_val = np.load('y_val.npy')\n",
        "X_test = np.load('X_test.npy')\n",
        "y_test = np.load('y_test.npy')\n"
      ]
    },
    {
      "cell_type": "code",
      "execution_count": null,
      "metadata": {
        "id": "LxmmaS366ycK"
      },
      "outputs": [],
      "source": [
        "\n",
        "# Normalize the input images (redundant step if already normalized during preprocessing)\n",
        "# X_train = X_train.astype('float32') / 255.0\n",
        "# X_val = X_val.astype('float32') / 255.0\n",
        "# X_test = X_test.astype('float32') / 255.0"
      ]
    },
    {
      "cell_type": "code",
      "execution_count": 18,
      "metadata": {
        "id": "rehBXLnyADfC"
      },
      "outputs": [],
      "source": [
        "# Enhanced data augmentation\n",
        "datagen = ImageDataGenerator(\n",
        "    rotation_range=40,\n",
        "    width_shift_range=0.2,\n",
        "    height_shift_range=0.2,\n",
        "    shear_range=0.2,\n",
        "    zoom_range=0.2,\n",
        "    horizontal_flip=True,\n",
        "    vertical_flip=True,\n",
        "    fill_mode='nearest'\n",
        ")\n",
        "datagen.fit(X_train)"
      ]
    },
    {
      "cell_type": "code",
      "execution_count": 23,
      "metadata": {
        "colab": {
          "base_uri": "https://localhost:8080/"
        },
        "id": "Fe0j8lbINfOC",
        "outputId": "e3aaa02f-efa5-45ae-9c6e-ea0a00032aeb"
      },
      "outputs": [
        {
          "output_type": "stream",
          "name": "stdout",
          "text": [
            "Number of classes: 17\n"
          ]
        }
      ],
      "source": [
        "# Determine the number of classes\n",
        "num_classes = len(unique_labels)\n",
        "print(f'Number of classes: {num_classes}')"
      ]
    },
    {
      "cell_type": "code",
      "execution_count": 49,
      "metadata": {
        "id": "-qsJsrV9HNAG"
      },
      "outputs": [],
      "source": [
        "def create_transfer_learning_model(input_shape, num_classes):\n",
        "    # Load the VGG16 model with pre-trained ImageNet weights\n",
        "    base_model = VGG16(weights='imagenet', include_top=False, input_shape=input_shape)\n",
        "\n",
        "    # Freeze the layers of the base model\n",
        "    for layer in base_model.layers:\n",
        "        layer.trainable = False\n",
        "\n",
        "    # Add custom layers on top of the base model\n",
        "    model = Sequential()\n",
        "    model.add(base_model)\n",
        "    model.add(BatchNormalization())\n",
        "    model.add(GlobalAveragePooling2D())\n",
        "    model.add(Dense(256, activation='relu'))\n",
        "    model.add(Dropout(0.5))\n",
        "    model.add(BatchNormalization())\n",
        "    model.add(Dense(17, activation='softmax'))\n",
        "\n",
        "    return model\n",
        "\n",
        "\n",
        "# # Create the model\n",
        "# input_shape = X_train.shape[1:]\n",
        "# num_classes = y_train.shape[1]\n",
        "# model = create_transfer_learning_model(input_shape, num_classes)\n",
        "\n",
        "# # Compile the model\n",
        "# model.compile(optimizer=Adam(learning_rate=0.001), loss='categorical_crossentropy', metrics=['accuracy'])\n"
      ]
    },
    {
      "cell_type": "code",
      "source": [
        "model.summary()"
      ],
      "metadata": {
        "colab": {
          "base_uri": "https://localhost:8080/"
        },
        "id": "z5BeD6t0fexD",
        "outputId": "111b8588-ffe2-40e6-db3e-5b6a3cecdce1"
      },
      "execution_count": 46,
      "outputs": [
        {
          "output_type": "stream",
          "name": "stdout",
          "text": [
            "Model: \"sequential_3\"\n",
            "_________________________________________________________________\n",
            " Layer (type)                Output Shape              Param #   \n",
            "=================================================================\n",
            " vgg16 (Functional)          (None, 5, 5, 512)         14714688  \n",
            "                                                                 \n",
            " batch_normalization_6 (Bat  (None, 5, 5, 512)         2048      \n",
            " chNormalization)                                                \n",
            "                                                                 \n",
            " global_average_pooling2d_3  (None, 512)               0         \n",
            "  (GlobalAveragePooling2D)                                       \n",
            "                                                                 \n",
            " dense_7 (Dense)             (None, 256)               131328    \n",
            "                                                                 \n",
            " dropout_4 (Dropout)         (None, 256)               0         \n",
            "                                                                 \n",
            " batch_normalization_7 (Bat  (None, 256)               1024      \n",
            " chNormalization)                                                \n",
            "                                                                 \n",
            " dense_8 (Dense)             (None, 17)                4369      \n",
            "                                                                 \n",
            "=================================================================\n",
            "Total params: 14853457 (56.66 MB)\n",
            "Trainable params: 137233 (536.07 KB)\n",
            "Non-trainable params: 14716224 (56.14 MB)\n",
            "_________________________________________________________________\n"
          ]
        }
      ]
    },
    {
      "cell_type": "code",
      "execution_count": 50,
      "metadata": {
        "id": "huSNnB82Hdq6"
      },
      "outputs": [],
      "source": [
        "# from tensorflow.keras.callbacks import ReduceLROnPlateau\n",
        "# # Define callbacks\n",
        "# early_stopping = EarlyStopping(monitor='val_loss', patience=5, restore_best_weights=True)\n",
        "# model_checkpoint = ModelCheckpoint('best_model.h5', monitor='val_loss', save_best_only=True)\n",
        "# reduce_lr = ReduceLROnPlateau(monitor='val_loss', factor=0.2, patience=5, min_lr=0.001)\n",
        "\n",
        "# # Define data augmentation\n",
        "# datagen = ImageDataGenerator(\n",
        "#     rotation_range=40,\n",
        "#     width_shift_range=0.2,\n",
        "#     height_shift_range=0.2,\n",
        "#     shear_range=0.2,\n",
        "#     zoom_range=0.2,\n",
        "#     horizontal_flip=True,\n",
        "#     fill_mode='nearest'\n",
        "# )\n",
        "\n",
        "# # Fit the model using the augmented data generator\n",
        "# datagen.fit(X_train)\n"
      ]
    },
    {
      "cell_type": "code",
      "execution_count": 51,
      "metadata": {
        "id": "S7zFR7wM626-"
      },
      "outputs": [],
      "source": [
        "# from tensorflow.keras.callbacks import ReduceLROnPlateau\n",
        "\n",
        "\n",
        "# history = model.fit(datagen.flow(X_train, y_train, batch_size=64),\n",
        "#                     validation_data=(X_val, y_val),\n",
        "#                     epochs=50,\n",
        "#                     callbacks=[model_checkpoint, early_stopping, reduce_lr])\n"
      ]
    },
    {
      "cell_type": "code",
      "source": [
        "pip install scikit-learn\n"
      ],
      "metadata": {
        "colab": {
          "base_uri": "https://localhost:8080/"
        },
        "id": "hBDIPuqaTLAW",
        "outputId": "a192a844-b41c-4cd0-bcb6-b0567b1164e3"
      },
      "execution_count": 53,
      "outputs": [
        {
          "output_type": "stream",
          "name": "stdout",
          "text": [
            "Requirement already satisfied: scikit-learn in /usr/local/lib/python3.10/dist-packages (1.2.2)\n",
            "Requirement already satisfied: numpy>=1.17.3 in /usr/local/lib/python3.10/dist-packages (from scikit-learn) (1.25.2)\n",
            "Requirement already satisfied: scipy>=1.3.2 in /usr/local/lib/python3.10/dist-packages (from scikit-learn) (1.11.4)\n",
            "Requirement already satisfied: joblib>=1.1.1 in /usr/local/lib/python3.10/dist-packages (from scikit-learn) (1.4.2)\n",
            "Requirement already satisfied: threadpoolctl>=2.0.0 in /usr/local/lib/python3.10/dist-packages (from scikit-learn) (3.5.0)\n"
          ]
        }
      ]
    },
    {
      "cell_type": "code",
      "source": [
        "from sklearn.model_selection import KFold\n",
        "\n",
        "\n",
        "\n",
        "\n",
        "# Define k-fold cross-validation\n",
        "kf = KFold(n_splits=5, shuffle=True, random_state=42)\n",
        "fold_no = 1\n",
        "results = []\n",
        "\n",
        "for train_index, val_index in kf.split(data):\n",
        "    X_train, X_val = data[train_index], data[val_index]\n",
        "    y_train, y_val = labels[train_index], labels[val_index]\n",
        "\n",
        "    model = create_transfer_learning_model(input_shape=X_train.shape[1:], num_classes=y_train.shape[1])\n",
        "    model.compile(optimizer=Adam(learning_rate=0.001), loss='categorical_crossentropy', metrics=['accuracy'])\n",
        "\n",
        "    # Data augmentation\n",
        "    datagen = ImageDataGenerator(\n",
        "        rotation_range=40,\n",
        "        width_shift_range=0.2,\n",
        "        height_shift_range=0.2,\n",
        "        shear_range=0.2,\n",
        "        zoom_range=0.2,\n",
        "        horizontal_flip=True,\n",
        "        fill_mode='nearest'\n",
        "    )\n",
        "    datagen.fit(X_train)\n",
        "\n",
        "    # Define callbacks\n",
        "    early_stopping = EarlyStopping(monitor='val_loss', patience=10, restore_best_weights=True)\n",
        "    model_checkpoint = ModelCheckpoint(f'best_model_fold_{fold_no}.h5', monitor='val_loss', save_best_only=True)\n",
        "    reduce_lr = ReduceLROnPlateau(monitor='val_loss', factor=0.2, patience=5, min_lr=0.00001)\n",
        "\n",
        "    # Train the model\n",
        "    history = model.fit(datagen.flow(X_train, y_train, batch_size=64),\n",
        "                        validation_data=(X_val, y_val),\n",
        "                        epochs=100,\n",
        "                        callbacks=[early_stopping, model_checkpoint, reduce_lr])\n",
        "\n",
        "    # Evaluate the model\n",
        "    test_loss, test_accuracy = model.evaluate(X_val, y_val)\n",
        "    print(f'Fold {fold_no} - Test Loss: {test_loss} - Test Accuracy: {test_accuracy}')\n",
        "    results.append((test_loss, test_accuracy))\n",
        "\n",
        "    fold_no += 1\n",
        "\n",
        "# Print overall results\n",
        "avg_loss = np.mean([r[0] for r in results])\n",
        "avg_accuracy = np.mean([r[1] for r in results])\n",
        "print(f'Average Loss: {avg_loss}')\n",
        "print(f'Average Accuracy: {avg_accuracy}')\n"
      ],
      "metadata": {
        "colab": {
          "base_uri": "https://localhost:8080/"
        },
        "id": "YfJ_aDSH6mra",
        "outputId": "0b88bacb-2020-449a-a272-61f1ef838b16"
      },
      "execution_count": null,
      "outputs": [
        {
          "output_type": "stream",
          "name": "stdout",
          "text": [
            "Epoch 1/100\n",
            "22/22 [==============================] - 27s 944ms/step - loss: 3.3725 - accuracy: 0.0912 - val_loss: 2.9283 - val_accuracy: 0.0941 - lr: 0.0010\n",
            "Epoch 2/100\n",
            "22/22 [==============================] - 11s 508ms/step - loss: 2.7546 - accuracy: 0.1706 - val_loss: 2.8069 - val_accuracy: 0.1265 - lr: 0.0010\n",
            "Epoch 3/100\n",
            "22/22 [==============================] - 10s 443ms/step - loss: 2.4360 - accuracy: 0.2537 - val_loss: 2.6968 - val_accuracy: 0.1765 - lr: 0.0010\n",
            "Epoch 4/100\n",
            "13/22 [================>.............] - ETA: 3s - loss: 2.2068 - accuracy: 0.2832"
          ]
        }
      ]
    },
    {
      "cell_type": "code",
      "source": [
        "# Data augmentation\n",
        "    datagen = ImageDataGenerator(\n",
        "        rotation_range=40,\n",
        "        width_shift_range=0.2,\n",
        "        height_shift_range=0.2,\n",
        "        shear_range=0.2,\n",
        "        zoom_range=0.2,\n",
        "        horizontal_flip=True,\n",
        "        fill_mode='nearest'\n",
        "    )\n",
        "    datagen.fit(X_train)\n",
        "\n",
        "\n"
      ],
      "metadata": {
        "id": "oHFl5qtj6_Zp"
      },
      "execution_count": null,
      "outputs": []
    },
    {
      "cell_type": "code",
      "source": [
        "# Define callbacks\n",
        "    early_stopping = EarlyStopping(monitor='val_loss', patience=10, restore_best_weights=True)\n",
        "    model_checkpoint = ModelCheckpoint(f'best_model_fold_{fold_no}.h5', monitor='val_loss', save_best_only=True)\n",
        "    reduce_lr = ReduceLROnPlateau(monitor='val_loss', factor=0.2, patience=5, min_lr=0.00001)\n",
        "\n",
        ""
      ],
      "metadata": {
        "id": "wWqyovSG7ET0"
      },
      "execution_count": null,
      "outputs": []
    },
    {
      "cell_type": "code",
      "source": [
        " # Train the model\n",
        "    history = model.fit(datagen.flow(X_train, y_train, batch_size=64),\n",
        "                        validation_data=(X_val, y_val),\n",
        "                        epochs=100,\n",
        "                        callbacks=[early_stopping, model_checkpoint, reduce_lr])\n",
        "\n",
        ""
      ],
      "metadata": {
        "id": "WAlpALSr7Oid"
      },
      "execution_count": null,
      "outputs": []
    },
    {
      "cell_type": "code",
      "source": [
        "# Evaluate the model\n",
        "    test_loss, test_accuracy = model.evaluate(X_val, y_val)\n",
        "    print(f'Fold {fold_no} - Test Loss: {test_loss} - Test Accuracy: {test_accuracy}')\n",
        "    results.append((test_loss, test_accuracy))\n",
        "\n",
        "    fold_no += 1\n",
        "\n",
        "# Print overall results\n",
        "avg_loss = np.mean([r[0] for r in results])\n",
        "avg_accuracy = np.mean([r[1] for r in results])\n",
        "print(f'Average Loss: {avg_loss}')\n",
        "print(f'Average Accuracy: {avg_accuracy}')"
      ],
      "metadata": {
        "id": "vnFDEF-C7Shi"
      },
      "execution_count": null,
      "outputs": []
    },
    {
      "cell_type": "code",
      "execution_count": 44,
      "metadata": {
        "colab": {
          "base_uri": "https://localhost:8080/",
          "height": 393
        },
        "id": "OQhrE0URHouP",
        "outputId": "8da99556-6d26-46ff-a7a4-d79a066fbe95"
      },
      "outputs": [
        {
          "output_type": "stream",
          "name": "stdout",
          "text": [
            "11/11 [==============================] - 1s 70ms/step - loss: 1.7283 - accuracy: 0.3824\n",
            "Test Loss: 1.728332757949829\n",
            "Test Accuracy: 0.38235294818878174\n"
          ]
        },
        {
          "output_type": "display_data",
          "data": {
            "text/plain": [
              "<Figure size 1200x400 with 2 Axes>"
            ],
            "image/png": "[encoded data removed]"
          },
          "metadata": {}
        }
      ],
      "source": [
        "# Load the best model\n",
        "model.load_weights('best_model.h5')\n",
        "\n",
        "# Evaluate the model on the test set\n",
        "test_loss, test_accuracy = model.evaluate(X_test, y_test)\n",
        "print(f'Test Loss: {test_loss}')\n",
        "print(f'Test Accuracy: {test_accuracy}')\n",
        "\n",
        "# Plot training and validation accuracy and loss\n",
        "import matplotlib.pyplot as plt\n",
        "\n",
        "# Plot training & validation accuracy values\n",
        "plt.figure(figsize=(12, 4))\n",
        "plt.subplot(1, 2, 1)\n",
        "plt.plot(history.history['accuracy'])\n",
        "plt.plot(history.history['val_accuracy'])\n",
        "plt.title('Model accuracy')\n",
        "plt.ylabel('Accuracy')\n",
        "plt.xlabel('Epoch')\n",
        "plt.legend(['Train', 'Validation'], loc='upper left')\n",
        "\n",
        "# Plot training & validation loss values\n",
        "plt.subplot(1, 2, 2)\n",
        "plt.plot(history.history['loss'])\n",
        "plt.plot(history.history['val_loss'])\n",
        "plt.title('Model loss')\n",
        "plt.ylabel('Loss')\n",
        "plt.xlabel('Epoch')\n",
        "plt.legend(['Train', 'Validation'], loc='upper left')\n",
        "\n",
        "plt.show()\n"
      ]
    },
    {
      "cell_type": "code",
      "source": [
        " model.save('/content/drive/MyDrive/Attendance/best_model.h5')"
      ],
      "metadata": {
        "id": "59xfbW5w0oO6"
      },
      "execution_count": 29,
      "outputs": []
    },
    {
      "cell_type": "code",
      "source": [
        "from tensorflow.keras.models import load_model\n",
        "\n",
        "\n",
        "model = load_model('/content/drive/MyDrive/Attendance/best_model.h5')"
      ],
      "metadata": {
        "id": "9x6msbrQ0sXp"
      },
      "execution_count": 30,
      "outputs": []
    },
    {
      "cell_type": "code",
      "execution_count": 31,
      "metadata": {
        "id": "ythgATnhdHWa"
      },
      "outputs": [],
      "source": [
        "# Unfreeze some layers of the base model for fine-tuning\n",
        "for layer in model.layers[0].layers[-4:]:  # Unfreeze the last 4 layers\n",
        "    layer.trainable = True\n"
      ]
    },
    {
      "cell_type": "code",
      "execution_count": 32,
      "metadata": {
        "id": "8XWvRLxrdQdA"
      },
      "outputs": [],
      "source": [
        "# Recompile the model with a lower learning rate for fine-tuning\n",
        "model.compile(optimizer=Adam(learning_rate=1e-5), loss='categorical_crossentropy', metrics=['accuracy'])\n",
        "\n"
      ]
    },
    {
      "cell_type": "code",
      "source": [
        "early_stopping = EarlyStopping(monitor='val_loss', patience=10, restore_best_weights=True)\n",
        "model_checkpoint = ModelCheckpoint('fine_tuned_model.h5', monitor='val_loss', save_best_only=True)"
      ],
      "metadata": {
        "id": "1kRDgpYqreC0"
      },
      "execution_count": 33,
      "outputs": []
    },
    {
      "cell_type": "code",
      "execution_count": 34,
      "metadata": {
        "colab": {
          "base_uri": "https://localhost:8080/",
          "height": 885
        },
        "id": "x8kxgYtwdU9q",
        "outputId": "f3e0777f-93c0-47cd-ec01-37f3d8423a7f"
      },
      "outputs": [
        {
          "output_type": "stream",
          "name": "stdout",
          "text": [
            "Epoch 1/50\n",
            "16/16 [==============================] - 11s 465ms/step - loss: 1.3428 - accuracy: 0.5529 - val_loss: 1.6930 - val_accuracy: 0.4529\n",
            "Epoch 2/50\n",
            "16/16 [==============================] - 8s 506ms/step - loss: 1.3730 - accuracy: 0.5373 - val_loss: 1.6997 - val_accuracy: 0.4559\n",
            "Epoch 3/50\n",
            "16/16 [==============================] - 8s 527ms/step - loss: 1.3034 - accuracy: 0.5608 - val_loss: 1.6574 - val_accuracy: 0.4676\n",
            "Epoch 4/50\n",
            "16/16 [==============================] - 7s 448ms/step - loss: 1.2857 - accuracy: 0.5725 - val_loss: 1.6160 - val_accuracy: 0.4676\n",
            "Epoch 5/50\n",
            "16/16 [==============================] - 9s 560ms/step - loss: 1.2136 - accuracy: 0.6206 - val_loss: 1.5745 - val_accuracy: 0.4912\n",
            "Epoch 6/50\n",
            "16/16 [==============================] - 7s 455ms/step - loss: 1.2462 - accuracy: 0.5765 - val_loss: 1.5629 - val_accuracy: 0.4853\n",
            "Epoch 7/50\n",
            "16/16 [==============================] - 7s 448ms/step - loss: 1.2267 - accuracy: 0.5961 - val_loss: 1.5493 - val_accuracy: 0.4882\n",
            "Epoch 8/50\n",
            "16/16 [==============================] - 9s 561ms/step - loss: 1.1255 - accuracy: 0.6382 - val_loss: 1.5404 - val_accuracy: 0.4794\n",
            "Epoch 9/50\n",
            "16/16 [==============================] - 7s 452ms/step - loss: 1.1364 - accuracy: 0.6275 - val_loss: 1.5265 - val_accuracy: 0.4824\n",
            "Epoch 10/50\n",
            "16/16 [==============================] - 9s 568ms/step - loss: 1.1217 - accuracy: 0.6569 - val_loss: 1.5159 - val_accuracy: 0.5029\n",
            "Epoch 11/50\n",
            "16/16 [==============================] - 8s 527ms/step - loss: 1.1028 - accuracy: 0.6422 - val_loss: 1.4891 - val_accuracy: 0.5176\n",
            "Epoch 12/50\n",
            "16/16 [==============================] - 8s 490ms/step - loss: 1.1002 - accuracy: 0.6529 - val_loss: 1.4734 - val_accuracy: 0.5206\n",
            "Epoch 13/50\n",
            " 5/16 [========>.....................] - ETA: 4s - loss: 1.0420 - accuracy: 0.6844"
          ]
        },
        {
          "output_type": "error",
          "ename": "KeyboardInterrupt",
          "evalue": "",
          "traceback": [
            "\u001b[0;31m---------------------------------------------------------------------------\u001b[0m",
            "\u001b[0;31mKeyboardInterrupt\u001b[0m                         Traceback (most recent call last)",
            "\u001b[0;32m<ipython-input-34-a574776b3659>\u001b[0m in \u001b[0;36m<cell line: 2>\u001b[0;34m()\u001b[0m\n\u001b[1;32m      1\u001b[0m \u001b[0;31m# Continue training the model\u001b[0m\u001b[0;34m\u001b[0m\u001b[0;34m\u001b[0m\u001b[0m\n\u001b[0;32m----> 2\u001b[0;31m fine_tune_history = model.fit(datagen.flow(X_train, y_train, batch_size=64),\n\u001b[0m\u001b[1;32m      3\u001b[0m                               \u001b[0mvalidation_data\u001b[0m\u001b[0;34m=\u001b[0m\u001b[0;34m(\u001b[0m\u001b[0mX_val\u001b[0m\u001b[0;34m,\u001b[0m \u001b[0my_val\u001b[0m\u001b[0;34m)\u001b[0m\u001b[0;34m,\u001b[0m\u001b[0;34m\u001b[0m\u001b[0;34m\u001b[0m\u001b[0m\n\u001b[1;32m      4\u001b[0m                               \u001b[0mepochs\u001b[0m\u001b[0;34m=\u001b[0m\u001b[0;36m50\u001b[0m\u001b[0;34m,\u001b[0m\u001b[0mcallbacks\u001b[0m\u001b[0;34m=\u001b[0m\u001b[0;34m[\u001b[0m\u001b[0mmodel_checkpoint\u001b[0m\u001b[0;34m,\u001b[0m \u001b[0mearly_stopping\u001b[0m\u001b[0;34m]\u001b[0m\u001b[0;34m\u001b[0m\u001b[0;34m\u001b[0m\u001b[0m\n\u001b[1;32m      5\u001b[0m                               )\n",
            "\u001b[0;32m/usr/local/lib/python3.10/dist-packages/keras/src/utils/traceback_utils.py\u001b[0m in \u001b[0;36merror_handler\u001b[0;34m(*args, **kwargs)\u001b[0m\n\u001b[1;32m     63\u001b[0m         \u001b[0mfiltered_tb\u001b[0m \u001b[0;34m=\u001b[0m \u001b[0;32mNone\u001b[0m\u001b[0;34m\u001b[0m\u001b[0;34m\u001b[0m\u001b[0m\n\u001b[1;32m     64\u001b[0m         \u001b[0;32mtry\u001b[0m\u001b[0;34m:\u001b[0m\u001b[0;34m\u001b[0m\u001b[0;34m\u001b[0m\u001b[0m\n\u001b[0;32m---> 65\u001b[0;31m             \u001b[0;32mreturn\u001b[0m \u001b[0mfn\u001b[0m\u001b[0;34m(\u001b[0m\u001b[0;34m*\u001b[0m\u001b[0margs\u001b[0m\u001b[0;34m,\u001b[0m \u001b[0;34m**\u001b[0m\u001b[0mkwargs\u001b[0m\u001b[0;34m)\u001b[0m\u001b[0;34m\u001b[0m\u001b[0;34m\u001b[0m\u001b[0m\n\u001b[0m\u001b[1;32m     66\u001b[0m         \u001b[0;32mexcept\u001b[0m \u001b[0mException\u001b[0m \u001b[0;32mas\u001b[0m \u001b[0me\u001b[0m\u001b[0;34m:\u001b[0m\u001b[0;34m\u001b[0m\u001b[0;34m\u001b[0m\u001b[0m\n\u001b[1;32m     67\u001b[0m             \u001b[0mfiltered_tb\u001b[0m \u001b[0;34m=\u001b[0m \u001b[0m_process_traceback_frames\u001b[0m\u001b[0;34m(\u001b[0m\u001b[0me\u001b[0m\u001b[0;34m.\u001b[0m\u001b[0m__traceback__\u001b[0m\u001b[0;34m)\u001b[0m\u001b[0;34m\u001b[0m\u001b[0;34m\u001b[0m\u001b[0m\n",
            "\u001b[0;32m/usr/local/lib/python3.10/dist-packages/keras/src/engine/training.py\u001b[0m in \u001b[0;36mfit\u001b[0;34m(self, x, y, batch_size, epochs, verbose, callbacks, validation_split, validation_data, shuffle, class_weight, sample_weight, initial_epoch, steps_per_epoch, validation_steps, validation_batch_size, validation_freq, max_queue_size, workers, use_multiprocessing)\u001b[0m\n\u001b[1;32m   1805\u001b[0m                         ):\n\u001b[1;32m   1806\u001b[0m                             \u001b[0mcallbacks\u001b[0m\u001b[0;34m.\u001b[0m\u001b[0mon_train_batch_begin\u001b[0m\u001b[0;34m(\u001b[0m\u001b[0mstep\u001b[0m\u001b[0;34m)\u001b[0m\u001b[0;34m\u001b[0m\u001b[0;34m\u001b[0m\u001b[0m\n\u001b[0;32m-> 1807\u001b[0;31m                             \u001b[0mtmp_logs\u001b[0m \u001b[0;34m=\u001b[0m \u001b[0mself\u001b[0m\u001b[0;34m.\u001b[0m\u001b[0mtrain_function\u001b[0m\u001b[0;34m(\u001b[0m\u001b[0miterator\u001b[0m\u001b[0;34m)\u001b[0m\u001b[0;34m\u001b[0m\u001b[0;34m\u001b[0m\u001b[0m\n\u001b[0m\u001b[1;32m   1808\u001b[0m                             \u001b[0;32mif\u001b[0m \u001b[0mdata_handler\u001b[0m\u001b[0;34m.\u001b[0m\u001b[0mshould_sync\u001b[0m\u001b[0;34m:\u001b[0m\u001b[0;34m\u001b[0m\u001b[0;34m\u001b[0m\u001b[0m\n\u001b[1;32m   1809\u001b[0m                                 \u001b[0mcontext\u001b[0m\u001b[0;34m.\u001b[0m\u001b[0masync_wait\u001b[0m\u001b[0;34m(\u001b[0m\u001b[0;34m)\u001b[0m\u001b[0;34m\u001b[0m\u001b[0;34m\u001b[0m\u001b[0m\n",
            "\u001b[0;32m/usr/local/lib/python3.10/dist-packages/tensorflow/python/util/traceback_utils.py\u001b[0m in \u001b[0;36merror_handler\u001b[0;34m(*args, **kwargs)\u001b[0m\n\u001b[1;32m    148\u001b[0m     \u001b[0mfiltered_tb\u001b[0m \u001b[0;34m=\u001b[0m \u001b[0;32mNone\u001b[0m\u001b[0;34m\u001b[0m\u001b[0;34m\u001b[0m\u001b[0m\n\u001b[1;32m    149\u001b[0m     \u001b[0;32mtry\u001b[0m\u001b[0;34m:\u001b[0m\u001b[0;34m\u001b[0m\u001b[0;34m\u001b[0m\u001b[0m\n\u001b[0;32m--> 150\u001b[0;31m       \u001b[0;32mreturn\u001b[0m \u001b[0mfn\u001b[0m\u001b[0;34m(\u001b[0m\u001b[0;34m*\u001b[0m\u001b[0margs\u001b[0m\u001b[0;34m,\u001b[0m \u001b[0;34m**\u001b[0m\u001b[0mkwargs\u001b[0m\u001b[0;34m)\u001b[0m\u001b[0;34m\u001b[0m\u001b[0;34m\u001b[0m\u001b[0m\n\u001b[0m\u001b[1;32m    151\u001b[0m     \u001b[0;32mexcept\u001b[0m \u001b[0mException\u001b[0m \u001b[0;32mas\u001b[0m \u001b[0me\u001b[0m\u001b[0;34m:\u001b[0m\u001b[0;34m\u001b[0m\u001b[0;34m\u001b[0m\u001b[0m\n\u001b[1;32m    152\u001b[0m       \u001b[0mfiltered_tb\u001b[0m \u001b[0;34m=\u001b[0m \u001b[0m_process_traceback_frames\u001b[0m\u001b[0;34m(\u001b[0m\u001b[0me\u001b[0m\u001b[0;34m.\u001b[0m\u001b[0m__traceback__\u001b[0m\u001b[0;34m)\u001b[0m\u001b[0;34m\u001b[0m\u001b[0;34m\u001b[0m\u001b[0m\n",
            "\u001b[0;32m/usr/local/lib/python3.10/dist-packages/tensorflow/python/eager/polymorphic_function/polymorphic_function.py\u001b[0m in \u001b[0;36m__call__\u001b[0;34m(self, *args, **kwds)\u001b[0m\n\u001b[1;32m    830\u001b[0m \u001b[0;34m\u001b[0m\u001b[0m\n\u001b[1;32m    831\u001b[0m       \u001b[0;32mwith\u001b[0m \u001b[0mOptionalXlaContext\u001b[0m\u001b[0;34m(\u001b[0m\u001b[0mself\u001b[0m\u001b[0;34m.\u001b[0m\u001b[0m_jit_compile\u001b[0m\u001b[0;34m)\u001b[0m\u001b[0;34m:\u001b[0m\u001b[0;34m\u001b[0m\u001b[0;34m\u001b[0m\u001b[0m\n\u001b[0;32m--> 832\u001b[0;31m         \u001b[0mresult\u001b[0m \u001b[0;34m=\u001b[0m \u001b[0mself\u001b[0m\u001b[0;34m.\u001b[0m\u001b[0m_call\u001b[0m\u001b[0;34m(\u001b[0m\u001b[0;34m*\u001b[0m\u001b[0margs\u001b[0m\u001b[0;34m,\u001b[0m \u001b[0;34m**\u001b[0m\u001b[0mkwds\u001b[0m\u001b[0;34m)\u001b[0m\u001b[0;34m\u001b[0m\u001b[0;34m\u001b[0m\u001b[0m\n\u001b[0m\u001b[1;32m    833\u001b[0m \u001b[0;34m\u001b[0m\u001b[0m\n\u001b[1;32m    834\u001b[0m       \u001b[0mnew_tracing_count\u001b[0m \u001b[0;34m=\u001b[0m \u001b[0mself\u001b[0m\u001b[0;34m.\u001b[0m\u001b[0mexperimental_get_tracing_count\u001b[0m\u001b[0;34m(\u001b[0m\u001b[0;34m)\u001b[0m\u001b[0;34m\u001b[0m\u001b[0;34m\u001b[0m\u001b[0m\n",
            "\u001b[0;32m/usr/local/lib/python3.10/dist-packages/tensorflow/python/eager/polymorphic_function/polymorphic_function.py\u001b[0m in \u001b[0;36m_call\u001b[0;34m(self, *args, **kwds)\u001b[0m\n\u001b[1;32m    866\u001b[0m       \u001b[0;31m# In this case we have created variables on the first call, so we run the\u001b[0m\u001b[0;34m\u001b[0m\u001b[0;34m\u001b[0m\u001b[0m\n\u001b[1;32m    867\u001b[0m       \u001b[0;31m# defunned version which is guaranteed to never create variables.\u001b[0m\u001b[0;34m\u001b[0m\u001b[0;34m\u001b[0m\u001b[0m\n\u001b[0;32m--> 868\u001b[0;31m       return tracing_compilation.call_function(\n\u001b[0m\u001b[1;32m    869\u001b[0m           \u001b[0margs\u001b[0m\u001b[0;34m,\u001b[0m \u001b[0mkwds\u001b[0m\u001b[0;34m,\u001b[0m \u001b[0mself\u001b[0m\u001b[0;34m.\u001b[0m\u001b[0m_no_variable_creation_config\u001b[0m\u001b[0;34m\u001b[0m\u001b[0;34m\u001b[0m\u001b[0m\n\u001b[1;32m    870\u001b[0m       )\n",
            "\u001b[0;32m/usr/local/lib/python3.10/dist-packages/tensorflow/python/eager/polymorphic_function/tracing_compilation.py\u001b[0m in \u001b[0;36mcall_function\u001b[0;34m(args, kwargs, tracing_options)\u001b[0m\n\u001b[1;32m    137\u001b[0m   \u001b[0mbound_args\u001b[0m \u001b[0;34m=\u001b[0m \u001b[0mfunction\u001b[0m\u001b[0;34m.\u001b[0m\u001b[0mfunction_type\u001b[0m\u001b[0;34m.\u001b[0m\u001b[0mbind\u001b[0m\u001b[0;34m(\u001b[0m\u001b[0;34m*\u001b[0m\u001b[0margs\u001b[0m\u001b[0;34m,\u001b[0m \u001b[0;34m**\u001b[0m\u001b[0mkwargs\u001b[0m\u001b[0;34m)\u001b[0m\u001b[0;34m\u001b[0m\u001b[0;34m\u001b[0m\u001b[0m\n\u001b[1;32m    138\u001b[0m   \u001b[0mflat_inputs\u001b[0m \u001b[0;34m=\u001b[0m \u001b[0mfunction\u001b[0m\u001b[0;34m.\u001b[0m\u001b[0mfunction_type\u001b[0m\u001b[0;34m.\u001b[0m\u001b[0munpack_inputs\u001b[0m\u001b[0;34m(\u001b[0m\u001b[0mbound_args\u001b[0m\u001b[0;34m)\u001b[0m\u001b[0;34m\u001b[0m\u001b[0;34m\u001b[0m\u001b[0m\n\u001b[0;32m--> 139\u001b[0;31m   return function._call_flat(  # pylint: disable=protected-access\n\u001b[0m\u001b[1;32m    140\u001b[0m       \u001b[0mflat_inputs\u001b[0m\u001b[0;34m,\u001b[0m \u001b[0mcaptured_inputs\u001b[0m\u001b[0;34m=\u001b[0m\u001b[0mfunction\u001b[0m\u001b[0;34m.\u001b[0m\u001b[0mcaptured_inputs\u001b[0m\u001b[0;34m\u001b[0m\u001b[0;34m\u001b[0m\u001b[0m\n\u001b[1;32m    141\u001b[0m   )\n",
            "\u001b[0;32m/usr/local/lib/python3.10/dist-packages/tensorflow/python/eager/polymorphic_function/concrete_function.py\u001b[0m in \u001b[0;36m_call_flat\u001b[0;34m(self, tensor_inputs, captured_inputs)\u001b[0m\n\u001b[1;32m   1321\u001b[0m         and executing_eagerly):\n\u001b[1;32m   1322\u001b[0m       \u001b[0;31m# No tape is watching; skip to running the function.\u001b[0m\u001b[0;34m\u001b[0m\u001b[0;34m\u001b[0m\u001b[0m\n\u001b[0;32m-> 1323\u001b[0;31m       \u001b[0;32mreturn\u001b[0m \u001b[0mself\u001b[0m\u001b[0;34m.\u001b[0m\u001b[0m_inference_function\u001b[0m\u001b[0;34m.\u001b[0m\u001b[0mcall_preflattened\u001b[0m\u001b[0;34m(\u001b[0m\u001b[0margs\u001b[0m\u001b[0;34m)\u001b[0m\u001b[0;34m\u001b[0m\u001b[0;34m\u001b[0m\u001b[0m\n\u001b[0m\u001b[1;32m   1324\u001b[0m     forward_backward = self._select_forward_and_backward_functions(\n\u001b[1;32m   1325\u001b[0m         \u001b[0margs\u001b[0m\u001b[0;34m,\u001b[0m\u001b[0;34m\u001b[0m\u001b[0;34m\u001b[0m\u001b[0m\n",
            "\u001b[0;32m/usr/local/lib/python3.10/dist-packages/tensorflow/python/eager/polymorphic_function/atomic_function.py\u001b[0m in \u001b[0;36mcall_preflattened\u001b[0;34m(self, args)\u001b[0m\n\u001b[1;32m    214\u001b[0m   \u001b[0;32mdef\u001b[0m \u001b[0mcall_preflattened\u001b[0m\u001b[0;34m(\u001b[0m\u001b[0mself\u001b[0m\u001b[0;34m,\u001b[0m \u001b[0margs\u001b[0m\u001b[0;34m:\u001b[0m \u001b[0mSequence\u001b[0m\u001b[0;34m[\u001b[0m\u001b[0mcore\u001b[0m\u001b[0;34m.\u001b[0m\u001b[0mTensor\u001b[0m\u001b[0;34m]\u001b[0m\u001b[0;34m)\u001b[0m \u001b[0;34m->\u001b[0m \u001b[0mAny\u001b[0m\u001b[0;34m:\u001b[0m\u001b[0;34m\u001b[0m\u001b[0;34m\u001b[0m\u001b[0m\n\u001b[1;32m    215\u001b[0m     \u001b[0;34m\"\"\"Calls with flattened tensor inputs and returns the structured output.\"\"\"\u001b[0m\u001b[0;34m\u001b[0m\u001b[0;34m\u001b[0m\u001b[0m\n\u001b[0;32m--> 216\u001b[0;31m     \u001b[0mflat_outputs\u001b[0m \u001b[0;34m=\u001b[0m \u001b[0mself\u001b[0m\u001b[0;34m.\u001b[0m\u001b[0mcall_flat\u001b[0m\u001b[0;34m(\u001b[0m\u001b[0;34m*\u001b[0m\u001b[0margs\u001b[0m\u001b[0;34m)\u001b[0m\u001b[0;34m\u001b[0m\u001b[0;34m\u001b[0m\u001b[0m\n\u001b[0m\u001b[1;32m    217\u001b[0m     \u001b[0;32mreturn\u001b[0m \u001b[0mself\u001b[0m\u001b[0;34m.\u001b[0m\u001b[0mfunction_type\u001b[0m\u001b[0;34m.\u001b[0m\u001b[0mpack_output\u001b[0m\u001b[0;34m(\u001b[0m\u001b[0mflat_outputs\u001b[0m\u001b[0;34m)\u001b[0m\u001b[0;34m\u001b[0m\u001b[0;34m\u001b[0m\u001b[0m\n\u001b[1;32m    218\u001b[0m \u001b[0;34m\u001b[0m\u001b[0m\n",
            "\u001b[0;32m/usr/local/lib/python3.10/dist-packages/tensorflow/python/eager/polymorphic_function/atomic_function.py\u001b[0m in \u001b[0;36mcall_flat\u001b[0;34m(self, *args)\u001b[0m\n\u001b[1;32m    249\u001b[0m         \u001b[0;32mwith\u001b[0m \u001b[0mrecord\u001b[0m\u001b[0;34m.\u001b[0m\u001b[0mstop_recording\u001b[0m\u001b[0;34m(\u001b[0m\u001b[0;34m)\u001b[0m\u001b[0;34m:\u001b[0m\u001b[0;34m\u001b[0m\u001b[0;34m\u001b[0m\u001b[0m\n\u001b[1;32m    250\u001b[0m           \u001b[0;32mif\u001b[0m \u001b[0mself\u001b[0m\u001b[0;34m.\u001b[0m\u001b[0m_bound_context\u001b[0m\u001b[0;34m.\u001b[0m\u001b[0mexecuting_eagerly\u001b[0m\u001b[0;34m(\u001b[0m\u001b[0;34m)\u001b[0m\u001b[0;34m:\u001b[0m\u001b[0;34m\u001b[0m\u001b[0;34m\u001b[0m\u001b[0m\n\u001b[0;32m--> 251\u001b[0;31m             outputs = self._bound_context.call_function(\n\u001b[0m\u001b[1;32m    252\u001b[0m                 \u001b[0mself\u001b[0m\u001b[0;34m.\u001b[0m\u001b[0mname\u001b[0m\u001b[0;34m,\u001b[0m\u001b[0;34m\u001b[0m\u001b[0;34m\u001b[0m\u001b[0m\n\u001b[1;32m    253\u001b[0m                 \u001b[0mlist\u001b[0m\u001b[0;34m(\u001b[0m\u001b[0margs\u001b[0m\u001b[0;34m)\u001b[0m\u001b[0;34m,\u001b[0m\u001b[0;34m\u001b[0m\u001b[0;34m\u001b[0m\u001b[0m\n",
            "\u001b[0;32m/usr/local/lib/python3.10/dist-packages/tensorflow/python/eager/context.py\u001b[0m in \u001b[0;36mcall_function\u001b[0;34m(self, name, tensor_inputs, num_outputs)\u001b[0m\n\u001b[1;32m   1484\u001b[0m     \u001b[0mcancellation_context\u001b[0m \u001b[0;34m=\u001b[0m \u001b[0mcancellation\u001b[0m\u001b[0;34m.\u001b[0m\u001b[0mcontext\u001b[0m\u001b[0;34m(\u001b[0m\u001b[0;34m)\u001b[0m\u001b[0;34m\u001b[0m\u001b[0;34m\u001b[0m\u001b[0m\n\u001b[1;32m   1485\u001b[0m     \u001b[0;32mif\u001b[0m \u001b[0mcancellation_context\u001b[0m \u001b[0;32mis\u001b[0m \u001b[0;32mNone\u001b[0m\u001b[0;34m:\u001b[0m\u001b[0;34m\u001b[0m\u001b[0;34m\u001b[0m\u001b[0m\n\u001b[0;32m-> 1486\u001b[0;31m       outputs = execute.execute(\n\u001b[0m\u001b[1;32m   1487\u001b[0m           \u001b[0mname\u001b[0m\u001b[0;34m.\u001b[0m\u001b[0mdecode\u001b[0m\u001b[0;34m(\u001b[0m\u001b[0;34m\"utf-8\"\u001b[0m\u001b[0;34m)\u001b[0m\u001b[0;34m,\u001b[0m\u001b[0;34m\u001b[0m\u001b[0;34m\u001b[0m\u001b[0m\n\u001b[1;32m   1488\u001b[0m           \u001b[0mnum_outputs\u001b[0m\u001b[0;34m=\u001b[0m\u001b[0mnum_outputs\u001b[0m\u001b[0;34m,\u001b[0m\u001b[0;34m\u001b[0m\u001b[0;34m\u001b[0m\u001b[0m\n",
            "\u001b[0;32m/usr/local/lib/python3.10/dist-packages/tensorflow/python/eager/execute.py\u001b[0m in \u001b[0;36mquick_execute\u001b[0;34m(op_name, num_outputs, inputs, attrs, ctx, name)\u001b[0m\n\u001b[1;32m     51\u001b[0m   \u001b[0;32mtry\u001b[0m\u001b[0;34m:\u001b[0m\u001b[0;34m\u001b[0m\u001b[0;34m\u001b[0m\u001b[0m\n\u001b[1;32m     52\u001b[0m     \u001b[0mctx\u001b[0m\u001b[0;34m.\u001b[0m\u001b[0mensure_initialized\u001b[0m\u001b[0;34m(\u001b[0m\u001b[0;34m)\u001b[0m\u001b[0;34m\u001b[0m\u001b[0;34m\u001b[0m\u001b[0m\n\u001b[0;32m---> 53\u001b[0;31m     tensors = pywrap_tfe.TFE_Py_Execute(ctx._handle, device_name, op_name,\n\u001b[0m\u001b[1;32m     54\u001b[0m                                         inputs, attrs, num_outputs)\n\u001b[1;32m     55\u001b[0m   \u001b[0;32mexcept\u001b[0m \u001b[0mcore\u001b[0m\u001b[0;34m.\u001b[0m\u001b[0m_NotOkStatusException\u001b[0m \u001b[0;32mas\u001b[0m \u001b[0me\u001b[0m\u001b[0;34m:\u001b[0m\u001b[0;34m\u001b[0m\u001b[0;34m\u001b[0m\u001b[0m\n",
            "\u001b[0;31mKeyboardInterrupt\u001b[0m: "
          ]
        }
      ],
      "source": [
        "# Continue training the model\n",
        "fine_tune_history = model.fit(datagen.flow(X_train, y_train, batch_size=64),\n",
        "                              validation_data=(X_val, y_val),\n",
        "                              epochs=50,callbacks=[model_checkpoint, early_stopping]\n",
        "                              )\n",
        "\n"
      ]
    },
    {
      "cell_type": "code",
      "execution_count": 29,
      "metadata": {
        "id": "3LDi5OMtdXbf"
      },
      "outputs": [],
      "source": [
        "# Merge history from initial training and fine-tuning\n",
        "history.history.update(fine_tune_history.history)"
      ]
    },
    {
      "cell_type": "code",
      "execution_count": 30,
      "metadata": {
        "id": "_FNPAqnnW32m",
        "colab": {
          "base_uri": "https://localhost:8080/",
          "height": 340
        },
        "outputId": "bf158ac1-cfa6-4c9c-d4e4-d0aa2ad3d5de"
      },
      "outputs": [
        {
          "output_type": "display_data",
          "data": {
            "text/plain": [
              "<Figure size 1200x400 with 2 Axes>"
            ],
            "image/png": "[encoded data removed]"
          },
          "metadata": {}
        },
        {
          "output_type": "stream",
          "name": "stdout",
          "text": [
            "12/12 - 1s - loss: 1.2225 - accuracy: 0.5917 - 842ms/epoch - 70ms/step\n",
            "Test Loss: 1.2225061655044556\n",
            "Test Accuracy: 0.5916666388511658\n"
          ]
        }
      ],
      "source": [
        "import matplotlib.pyplot as plt\n",
        "\n",
        "# Function to plot training and validation accuracy and loss\n",
        "def plot_history(history):\n",
        "    # Plot training & validation accuracy values\n",
        "    plt.figure(figsize=(12, 4))\n",
        "    plt.subplot(1, 2, 1)\n",
        "    plt.plot(history.history['accuracy'])\n",
        "    plt.plot(history.history['val_accuracy'])\n",
        "    plt.title('Model accuracy')\n",
        "    plt.ylabel('Accuracy')\n",
        "    plt.xlabel('Epoch')\n",
        "    plt.legend(['Train', 'Validation'], loc='upper left')\n",
        "\n",
        "    # Plot training & validation loss values\n",
        "    plt.subplot(1, 2, 2)\n",
        "    plt.plot(history.history['loss'])\n",
        "    plt.plot(history.history['val_loss'])\n",
        "    plt.title('Model loss')\n",
        "    plt.ylabel('Loss')\n",
        "    plt.xlabel('Epoch')\n",
        "    plt.legend(['Train', 'Validation'], loc='upper left')\n",
        "\n",
        "    plt.tight_layout()\n",
        "    plt.show()\n",
        "\n",
        "# Plot the history\n",
        "plot_history(history)\n",
        "\n",
        "# Evaluate the model on the test set\n",
        "test_loss, test_accuracy = model.evaluate(X_test, y_test, verbose=2)\n",
        "print(f\"Test Loss: {test_loss}\")\n",
        "print(f\"Test Accuracy: {test_accuracy}\")\n"
      ]
    },
    {
      "cell_type": "code",
      "source": [
        "\n",
        "model.save('/content/drive/MyDrive/Attendance/fine_tuned_model.h5')\n"
      ],
      "metadata": {
        "id": "qAgQv0VdUscv"
      },
      "execution_count": 31,
      "outputs": []
    },
    {
      "cell_type": "code",
      "source": [
        "from tensorflow.keras.models import load_model\n",
        "\n",
        "# Load the fine-tuned model from Google Drive\n",
        "model = load_model('/content/drive/MyDrive/Attendance/fine_tuned_model.h5')\n"
      ],
      "metadata": {
        "id": "naKIRwtgtzfz"
      },
      "execution_count": 29,
      "outputs": []
    },
    {
      "cell_type": "code",
      "source": [
        "class_indices = {label: idx for idx, label in enumerate(unique_labels)}\n",
        "print(\"Class Indices:\", class_indices)"
      ],
      "metadata": {
        "colab": {
          "base_uri": "https://localhost:8080/"
        },
        "id": "kMZdg9CZx6i3",
        "outputId": "02ddf048-d188-4620-9b87-f6afad60453c"
      },
      "execution_count": 30,
      "outputs": [
        {
          "output_type": "stream",
          "name": "stdout",
          "text": [
            "Class Indices: {'Angelina Jolie': 0, 'Brad Pitt': 1, 'Denzel Washington': 2, 'Hugh Jackman': 3, 'Jennifer Lawrence': 4, 'Johnny Depp': 5, 'Kate Winslet': 6, 'Leonardo DiCaprio': 7, 'Megan Fox': 8, 'Natalie Portman': 9, 'Nicole Kidman': 10, 'Robert Downey Jr': 11, 'Sandra Bullock': 12, 'Scarlett Johansson': 13, 'Tom Cruise': 14, 'Tom Hanks': 15, 'Will Smith': 16}\n"
          ]
        }
      ]
    },
    {
      "cell_type": "code",
      "source": [
        "import numpy as np\n",
        "from tensorflow.keras.preprocessing import image\n",
        "from tensorflow.keras.applications.vgg16 import preprocess_input\n",
        "import os\n",
        "from tensorflow.keras.preprocessing.image import load_img, img_to_array\n",
        "from tensorflow.keras.models import load_model\n",
        "import pickle\n",
        "\n"
      ],
      "metadata": {
        "id": "0aaZYFe3uBUK"
      },
      "execution_count": 31,
      "outputs": []
    },
    {
      "cell_type": "code",
      "source": [
        "# Step 1: Preprocess the Image\n",
        "image_path = '/content/drive/MyDrive/Attendance/Celebrity Faces Dataset/Sandra Bullock/002_24fab375.jpg'\n",
        "target_size = (160, 160)"
      ],
      "metadata": {
        "id": "3XtUAmHG2m6i"
      },
      "execution_count": 67,
      "outputs": []
    },
    {
      "cell_type": "code",
      "source": [
        "img = load_img(image_path, target_size=target_size)\n",
        "img_array = img_to_array(img)\n",
        "img_array = np.expand_dims(img_array, axis=0)\n",
        "img_array = preprocess_input(img_array)"
      ],
      "metadata": {
        "id": "HjKO4CFa2ogi"
      },
      "execution_count": 68,
      "outputs": []
    },
    {
      "cell_type": "code",
      "source": [
        "# Step 2: Load the Model and Label Encoder\n",
        "model_path = '/content/drive/MyDrive/Attendance/fine_tuned_model.h5'\n",
        "label_encoder_path = '/content/drive/MyDrive/Attendance/label_encoder.pkl'"
      ],
      "metadata": {
        "id": "XdKlWalp2sRU"
      },
      "execution_count": 69,
      "outputs": []
    },
    {
      "cell_type": "code",
      "source": [
        "model = load_model(model_path)"
      ],
      "metadata": {
        "id": "YJgYMe1n2xI0"
      },
      "execution_count": 70,
      "outputs": []
    },
    {
      "cell_type": "code",
      "source": [
        "with open(label_encoder_path, 'rb') as file:\n",
        "    label_encoder = pickle.load(file)"
      ],
      "metadata": {
        "id": "MLtiAiqk21-V"
      },
      "execution_count": 71,
      "outputs": []
    },
    {
      "cell_type": "code",
      "source": [
        "predictions = model.predict(img_array)\n",
        "predicted_class = np.argmax(predictions, axis=1)\n",
        "predicted_label = label_encoder.inverse_transform(predicted_class)\n",
        "print(f\"Predicted label: {predicted_label[0]}\")"
      ],
      "metadata": {
        "colab": {
          "base_uri": "https://localhost:8080/"
        },
        "id": "PL08Dund28XA",
        "outputId": "033ccb28-884b-4311-d2b1-14b6e6028ca8"
      },
      "execution_count": 72,
      "outputs": [
        {
          "output_type": "stream",
          "name": "stdout",
          "text": [
            "1/1 [==============================] - 0s 474ms/step\n",
            "Predicted label: Megan Fox\n"
          ]
        }
      ]
    },
    {
      "cell_type": "code",
      "source": [
        "from collections import Counter\n",
        "\n",
        "# Assuming labels are already encoded\n",
        "class_distribution = Counter(labels)\n",
        "print(\"Class distribution:\", class_distribution)\n"
      ],
      "metadata": {
        "colab": {
          "base_uri": "https://localhost:8080/"
        },
        "id": "0qL3uN88y8Nk",
        "outputId": "6c504712-39c7-4805-8e00-a4c6be532cd4"
      },
      "execution_count": 73,
      "outputs": [
        {
          "output_type": "stream",
          "name": "stdout",
          "text": [
            "Class distribution: Counter({'Scarlett Johansson': 200, 'Angelina Jolie': 100, 'Brad Pitt': 100, 'Denzel Washington': 100, 'Hugh Jackman': 100, 'Jennifer Lawrence': 100, 'Johnny Depp': 100, 'Kate Winslet': 100, 'Leonardo DiCaprio': 100, 'Megan Fox': 100, 'Natalie Portman': 100, 'Nicole Kidman': 100, 'Robert Downey Jr': 100, 'Sandra Bullock': 100, 'Tom Cruise': 100, 'Tom Hanks': 100, 'Will Smith': 100})\n"
          ]
        }
      ]
    },
    {
      "cell_type": "code",
      "source": [
        "from sklearn.metrics import confusion_matrix\n",
        "import seaborn as sns\n",
        "import matplotlib.pyplot as plt\n",
        "\n",
        "# Predict the labels for the validation set\n",
        "y_val_pred = model.predict(X_val)\n",
        "y_val_pred_classes = np.argmax(y_val_pred, axis=1)\n",
        "y_val_true_classes = np.argmax(y_val, axis=1)\n",
        "\n",
        "# Compute the confusion matrix\n",
        "cm = confusion_matrix(y_val_true_classes, y_val_pred_classes)\n",
        "\n",
        "# Plot the confusion matrix\n",
        "plt.figure(figsize=(10, 8))\n",
        "sns.heatmap(cm, annot=True, fmt='d', cmap='Blues', xticklabels=label_encoder.classes_, yticklabels=label_encoder.classes_)\n",
        "plt.xlabel('Predicted')\n",
        "plt.ylabel('True')\n",
        "plt.title('Confusion Matrix')\n",
        "plt.show()\n"
      ],
      "metadata": {
        "colab": {
          "base_uri": "https://localhost:8080/",
          "height": 782
        },
        "id": "qPMw-UXgzFk5",
        "outputId": "48f65b0f-dd36-40f0-a1af-05538eb1e3be"
      },
      "execution_count": 50,
      "outputs": [
        {
          "output_type": "stream",
          "name": "stdout",
          "text": [
            "12/12 [==============================] - 111s 9s/step\n"
          ]
        },
        {
          "output_type": "display_data",
          "data": {
            "text/plain": [
              "<Figure size 1000x800 with 2 Axes>"
            ],
            "image/png": "[encoded data removed]"
          },
          "metadata": {}
        }
      ]
    },
    {
      "cell_type": "code",
      "source": [
        "# # Step 1: Load the Image\n",
        "# from tensorflow.keras.preprocessing.image import load_img, img_to_array\n",
        "# img_path = '/content/drive/MyDrive/Attendance/Celebrity Faces Dataset/Megan Fox/004_6aede3d3.jpg'\n",
        "# target_size = (160, 160)\n",
        "# img = load_img(img_path, target_size=target_size)\n",
        "\n"
      ],
      "metadata": {
        "id": "uSzJ1it0ytGe"
      },
      "execution_count": 46,
      "outputs": []
    },
    {
      "cell_type": "code",
      "source": [
        "# # Step 2: Convert the Image to an Array\n",
        "# img_array = img_to_array(img)\n",
        "\n"
      ],
      "metadata": {
        "id": "QA2ZjSjsyySk"
      },
      "execution_count": 26,
      "outputs": []
    },
    {
      "cell_type": "code",
      "source": [
        "# # Step 3: Expand Dimensions\n",
        "# img_array = np.expand_dims(img_array, axis=0)\n",
        "\n"
      ],
      "metadata": {
        "id": "6SAgboB4y099"
      },
      "execution_count": 27,
      "outputs": []
    },
    {
      "cell_type": "code",
      "source": [
        "# # Step 4: Preprocess the Image\n",
        "# img_array = preprocess_input(img_array)\n",
        "\n"
      ],
      "metadata": {
        "id": "QWHUwb3yy3SQ"
      },
      "execution_count": 28,
      "outputs": []
    },
    {
      "cell_type": "code",
      "source": [
        "# # Now img_array is ready to be used as input to a neural network model\n",
        "# print(img_array.shape)  # Output should be (1, 160, 160, 3)"
      ],
      "metadata": {
        "colab": {
          "base_uri": "https://localhost:8080/"
        },
        "id": "8kTJG-oVy5Th",
        "outputId": "b1a55a25-ea1c-4ac0-fb4a-0242460c68db"
      },
      "execution_count": 29,
      "outputs": [
        {
          "output_type": "stream",
          "name": "stdout",
          "text": [
            "(1, 160, 160, 3)\n"
          ]
        }
      ]
    },
    {
      "cell_type": "code",
      "source": [
        "# from tensorflow.keras.models import load_model\n",
        "\n",
        "# # Specify the path to your saved model\n",
        "# model_path = '/content/drive/MyDrive/Attendance/fine_tuned_model.h5'\n",
        "\n",
        "# # Load the model\n",
        "# model1 = load_model(model_path)\n",
        "\n",
        "# # Continue with further processing (e.g., making predictions)\n",
        "\n"
      ],
      "metadata": {
        "id": "UnfihVT3z9uJ"
      },
      "execution_count": 41,
      "outputs": []
    },
    {
      "cell_type": "code",
      "source": [
        "# # Get the class indices from the training generator (replace with your actual class indices)\n",
        "# class_indices = {'class1': 0, 'class2': 1, 'class3': 2}  # Replace with your actual class indices"
      ],
      "metadata": {
        "id": "sMhjkw9SuO3I"
      },
      "execution_count": 84,
      "outputs": []
    },
    {
      "cell_type": "code",
      "source": [
        "# Example path to an image in your dataset\n",
        "img_path = '/content/drive/MyDrive/Attendance/Celebrity Faces Dataset/Sandra Bullock/002_24fab375.jpg'"
      ],
      "metadata": {
        "id": "aVzxnzeAdGc4"
      },
      "execution_count": 35,
      "outputs": []
    }
  ],
  "metadata": {
    "accelerator": "GPU",
    "colab": {
      "gpuType": "T4",
      "provenance": []
    },
    "kernelspec": {
      "display_name": "Python 3",
      "name": "python3"
    },
    "language_info": {
      "name": "python"
    }
  },
  "nbformat": 4,
  "nbformat_minor": 0
}